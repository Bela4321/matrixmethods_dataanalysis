{
 "cells": [
  {
   "cell_type": "code",
   "execution_count": 3,
   "metadata": {},
   "outputs": [
    {
     "name": "stdout",
     "output_type": "stream",
     "text": [
      "[[-0.12216944  0.8899956  -0.43500081]\n",
      " [-0.48867778  0.30745303  0.79343294]\n",
      " [-0.85518611 -0.27508955 -0.35843213]\n",
      " [-0.12216944 -0.19418086 -0.22970605]] \n",
      " [[-8.18535277e+00 -9.65138610e+00 -1.11174194e+01]\n",
      " [ 0.00000000e+00  9.22359078e-01  1.84471816e+00]\n",
      " [ 0.00000000e+00  0.00000000e+00  2.48253415e-16]]\n"
     ]
    }
   ],
   "source": [
    "import numpy as np\n",
    "\n",
    "A=np.array([[1,2,3],[4,5,6],[7,8,9],[1,1,1]])\n",
    "\n",
    "[Q,R] = np.linalg.qr(A)\n",
    "print(Q,\"\\n\",R)"
   ]
  },
  {
   "cell_type": "code",
   "execution_count": null,
   "metadata": {},
   "outputs": [],
   "source": [
    "# normal"
   ]
  }
 ],
 "metadata": {
  "kernelspec": {
   "display_name": ".venv",
   "language": "python",
   "name": "python3"
  },
  "language_info": {
   "codemirror_mode": {
    "name": "ipython",
    "version": 3
   },
   "file_extension": ".py",
   "mimetype": "text/x-python",
   "name": "python",
   "nbconvert_exporter": "python",
   "pygments_lexer": "ipython3",
   "version": "3.10.12"
  }
 },
 "nbformat": 4,
 "nbformat_minor": 2
}
