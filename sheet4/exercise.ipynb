{
 "cells": [
  {
   "cell_type": "code",
   "execution_count": 5,
   "metadata": {},
   "outputs": [],
   "source": [
    "import numpy as np"
   ]
  },
  {
   "cell_type": "code",
   "execution_count": 6,
   "metadata": {},
   "outputs": [],
   "source": [
    "def householderMatrix(vector):\n",
    "    vector = np.array(vector)\n",
    "    n = len(vector)\n",
    "    I = np.eye(n)\n",
    "    v = vector / np.linalg.norm(vector)\n",
    "    return I - 2 * np.outer(v, v)"
   ]
  },
  {
   "cell_type": "code",
   "execution_count": 7,
   "metadata": {},
   "outputs": [],
   "source": [
    "A=np.matrix([[1,0,2],[1,1,0],[2,1,1],[0,1,2],[1,2,1]])"
   ]
  },
  {
   "cell_type": "code",
   "execution_count": 8,
   "metadata": {},
   "outputs": [],
   "source": [
    "col1=A[:,0]"
   ]
  },
  {
   "cell_type": "code",
   "execution_count": 19,
   "metadata": {},
   "outputs": [
    {
     "name": "stdout",
     "output_type": "stream",
     "text": [
      "[[3.64575131]\n",
      " [1.        ]\n",
      " [2.        ]\n",
      " [0.        ]\n",
      " [1.        ]]\n"
     ]
    }
   ],
   "source": [
    "householderVector1 = col1 + np.linalg.norm(col1) * np.matrix(np.eye(5,1))[:,0] *np.sign(col1[0,0])\n",
    "print(householderVector1)"
   ]
  },
  {
   "cell_type": "code",
   "execution_count": 21,
   "metadata": {},
   "outputs": [
    {
     "name": "stdout",
     "output_type": "stream",
     "text": [
      "[[-0.37796447 -0.37796447 -0.75592895  0.         -0.37796447]\n",
      " [-0.37796447  0.89632741 -0.20734518  0.         -0.10367259]\n",
      " [-0.75592895 -0.20734518  0.58530965  0.         -0.20734518]\n",
      " [ 0.          0.          0.          1.          0.        ]\n",
      " [-0.37796447 -0.10367259 -0.20734518  0.          0.89632741]]\n"
     ]
    }
   ],
   "source": [
    "Hmatrix1= householderMatrix(householderVector1)\n",
    "print(Hmatrix1)"
   ]
  },
  {
   "cell_type": "code",
   "execution_count": 25,
   "metadata": {},
   "outputs": [
    {
     "name": "stdout",
     "output_type": "stream",
     "text": [
      "[[-2.64575131e+00 -1.88982237e+00 -1.88982237e+00]\n",
      " [ 1.11022302e-16  4.81637061e-01 -1.06694671e+00]\n",
      " [ 2.22044605e-16 -3.67258783e-02 -1.13389342e+00]\n",
      " [ 0.00000000e+00  1.00000000e+00  2.00000000e+00]\n",
      " [ 1.11022302e-16  1.48163706e+00 -6.69467095e-02]]\n"
     ]
    }
   ],
   "source": [
    "A1=Hmatrix1@A\n",
    "print(A1)"
   ]
  },
  {
   "cell_type": "code",
   "execution_count": 27,
   "metadata": {},
   "outputs": [
    {
     "name": "stdout",
     "output_type": "stream",
     "text": [
      "[[ 0.48163706]\n",
      " [-0.03672588]\n",
      " [ 1.        ]\n",
      " [ 1.48163706]]\n"
     ]
    }
   ],
   "source": [
    "col2=A1[1:,1]\n",
    "print(col2)"
   ]
  },
  {
   "cell_type": "code",
   "execution_count": 28,
   "metadata": {},
   "outputs": [
    {
     "name": "stdout",
     "output_type": "stream",
     "text": [
      "[[ 2.33327726]\n",
      " [-0.03672588]\n",
      " [ 1.        ]\n",
      " [ 1.48163706]]\n"
     ]
    }
   ],
   "source": [
    "householderVector2 = col2 + np.linalg.norm(col2) * np.matrix(np.eye(4,1))[:,0] *np.sign(col2[0,0])\n",
    "print(householderVector2)"
   ]
  },
  {
   "cell_type": "code",
   "execution_count": 30,
   "metadata": {},
   "outputs": [
    {
     "name": "stdout",
     "output_type": "stream",
     "text": [
      "[[ 0.        ]\n",
      " [ 2.33327726]\n",
      " [-0.03672588]\n",
      " [ 1.        ]\n",
      " [ 1.48163706]]\n"
     ]
    }
   ],
   "source": [
    "householderVector2 = np.concatenate((np.zeros((1,1)),householderVector2),axis=0)\n",
    "print(householderVector2)"
   ]
  },
  {
   "cell_type": "code",
   "execution_count": 31,
   "metadata": {},
   "outputs": [],
   "source": [
    "Hmatrix2= householderMatrix(householderVector2)"
   ]
  },
  {
   "cell_type": "code",
   "execution_count": 33,
   "metadata": {},
   "outputs": [
    {
     "name": "stdout",
     "output_type": "stream",
     "text": [
      "[[-2.64575131e+00 -1.88982237e+00 -1.88982237e+00]\n",
      " [-1.13311663e-16 -1.85164020e+00 -7.71516750e-01]\n",
      " [ 2.25575631e-16 -5.94769025e-18 -1.13854350e+00]\n",
      " [-9.61454385e-17  1.35641556e-16  2.12661588e+00]\n",
      " [-3.14303425e-17  8.29732565e-17  1.20652075e-01]]\n"
     ]
    }
   ],
   "source": [
    "A2=Hmatrix2 @ A1\n",
    "print(A2)"
   ]
  },
  {
   "cell_type": "code",
   "execution_count": 39,
   "metadata": {},
   "outputs": [
    {
     "name": "stdout",
     "output_type": "stream",
     "text": [
      "[[-1.1385435 ]\n",
      " [ 2.12661588]\n",
      " [ 0.12065207]]\n"
     ]
    }
   ],
   "source": [
    "col3=A2[2:,2]\n",
    "print(col3)"
   ]
  },
  {
   "cell_type": "code",
   "execution_count": 41,
   "metadata": {},
   "outputs": [
    {
     "name": "stdout",
     "output_type": "stream",
     "text": [
      "[[-3.55377296]\n",
      " [ 2.12661588]\n",
      " [ 0.12065207]]\n"
     ]
    }
   ],
   "source": [
    "householderVector3 = col3 + np.linalg.norm(col3) * np.matrix(np.eye(3,1))[:,0] *np.sign(col3[0,0])\n",
    "print(householderVector3)"
   ]
  },
  {
   "cell_type": "code",
   "execution_count": 42,
   "metadata": {},
   "outputs": [
    {
     "name": "stdout",
     "output_type": "stream",
     "text": [
      "[[ 0.        ]\n",
      " [ 0.        ]\n",
      " [-3.55377296]\n",
      " [ 2.12661588]\n",
      " [ 0.12065207]]\n"
     ]
    }
   ],
   "source": [
    "householderVector3 = np.concatenate((np.zeros((2,1)),householderVector3),axis=0)\n",
    "print(householderVector3)"
   ]
  },
  {
   "cell_type": "code",
   "execution_count": 43,
   "metadata": {},
   "outputs": [],
   "source": [
    "Hmatrix3= householderMatrix(householderVector3)"
   ]
  },
  {
   "cell_type": "code",
   "execution_count": 46,
   "metadata": {},
   "outputs": [
    {
     "name": "stdout",
     "output_type": "stream",
     "text": [
      "[[-2.64575131e+00 -1.88982237e+00 -1.88982237e+00]\n",
      " [-1.13311663e-16 -1.85164020e+00 -7.71516750e-01]\n",
      " [-1.92563162e-16  1.26381402e-16  2.41522946e+00]\n",
      " [ 1.54073303e-16  5.64544061e-17  6.91698860e-17]\n",
      " [-1.72343560e-17  7.84806286e-17 -2.08897245e-18]]\n"
     ]
    }
   ],
   "source": [
    "A3=Hmatrix3 @A2\n",
    "print(A3)"
   ]
  },
  {
   "cell_type": "code",
   "execution_count": 47,
   "metadata": {},
   "outputs": [
    {
     "name": "stdout",
     "output_type": "stream",
     "text": [
      "[[-2.65 -1.89 -1.89]\n",
      " [-0.   -1.85 -0.77]\n",
      " [-0.    0.    2.42]\n",
      " [ 0.    0.    0.  ]\n",
      " [-0.    0.   -0.  ]]\n"
     ]
    }
   ],
   "source": [
    "print(np.round(A3,2))"
   ]
  }
 ],
 "metadata": {
  "kernelspec": {
   "display_name": ".venv",
   "language": "python",
   "name": "python3"
  },
  "language_info": {
   "codemirror_mode": {
    "name": "ipython",
    "version": 3
   },
   "file_extension": ".py",
   "mimetype": "text/x-python",
   "name": "python",
   "nbconvert_exporter": "python",
   "pygments_lexer": "ipython3",
   "version": "3.10.12"
  }
 },
 "nbformat": 4,
 "nbformat_minor": 2
}
