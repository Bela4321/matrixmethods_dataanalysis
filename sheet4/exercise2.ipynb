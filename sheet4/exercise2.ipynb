{
 "cells": [
  {
   "cell_type": "code",
   "execution_count": 1,
   "metadata": {},
   "outputs": [],
   "source": [
    "import numpy as np"
   ]
  },
  {
   "cell_type": "code",
   "execution_count": 3,
   "metadata": {},
   "outputs": [
    {
     "name": "stdout",
     "output_type": "stream",
     "text": [
      "[[1 0 2]\n",
      " [1 1 0]\n",
      " [2 1 1]\n",
      " [0 1 2]\n",
      " [1 2 1]]\n"
     ]
    }
   ],
   "source": [
    "A=np.matrix([[1,0,2],[1,1,0],[2,1,1],[0,1,2],[1,2,1]])\n",
    "print(A)"
   ]
  },
  {
   "cell_type": "code",
   "execution_count": 4,
   "metadata": {},
   "outputs": [
    {
     "data": {
      "text/plain": [
       "SVDResult(U=matrix([[-4.33248985e-01, -5.32657384e-01, -5.00000000e-01,\n",
       "         -5.24527356e-01,  5.86726644e-02],\n",
       "        [-2.50681348e-01,  4.72094427e-01,  1.97890423e-16,\n",
       "         -3.57991507e-01, -7.65589835e-01],\n",
       "        [-5.29976177e-01,  3.23789341e-01, -5.00000000e-01,\n",
       "          5.96125657e-01,  9.44453026e-02],\n",
       "        [-4.33248985e-01, -5.32657384e-01,  5.00000000e-01,\n",
       "          3.81330753e-01, -3.64908598e-01],\n",
       "        [-5.29976177e-01,  3.23789341e-01,  5.00000000e-01,\n",
       "         -3.09732452e-01,  5.18026565e-01]]), S=array([4.25927558, 1.96432471, 1.41421356]), Vh=matrix([[-5.33860471e-01, -5.33860471e-01, -6.55733174e-01],\n",
       "        [ 4.63673374e-01,  4.63673374e-01, -7.54992718e-01],\n",
       "        [-7.07106781e-01,  7.07106781e-01,  1.11022302e-16]]))"
      ]
     },
     "execution_count": 4,
     "metadata": {},
     "output_type": "execute_result"
    }
   ],
   "source": [
    "np.linalg.svd(A)"
   ]
  }
 ],
 "metadata": {
  "kernelspec": {
   "display_name": ".venv",
   "language": "python",
   "name": "python3"
  },
  "language_info": {
   "codemirror_mode": {
    "name": "ipython",
    "version": 3
   },
   "file_extension": ".py",
   "mimetype": "text/x-python",
   "name": "python",
   "nbconvert_exporter": "python",
   "pygments_lexer": "ipython3",
   "version": "3.10.12"
  }
 },
 "nbformat": 4,
 "nbformat_minor": 2
}
