{
 "cells": [
  {
   "cell_type": "markdown",
   "id": "4db40169-00b8-443c-b186-75b40040ac78",
   "metadata": {},
   "source": [
    "# Kritias"
   ]
  },
  {
   "cell_type": "markdown",
   "id": "f8569e23-912b-4645-b815-a6411c5d4c0f",
   "metadata": {},
   "source": [
    "## 1. Finding the point where ChatGPT took over"
   ]
  },
  {
   "cell_type": "markdown",
   "id": "64670203-866e-4250-9616-9134f0d868e2",
   "metadata": {},
   "source": [
    "### 1.1 Text Preprocessing"
   ]
  },
  {
   "cell_type": "code",
   "execution_count": 5,
   "id": "49adf6a0-c244-4ab3-bbd4-1da278a1e15c",
   "metadata": {},
   "outputs": [],
   "source": [
    "# imports\n",
    "import re  # regular expressions\n",
    "import nltk  # for stemming\n",
    "import numpy as np  # for matrices\n",
    "import matplotlib.pyplot as plt  # for graphs"
   ]
  },
  {
   "cell_type": "code",
   "execution_count": 6,
   "id": "fe20c7e7-7474-492c-84b2-6b8ee1d8fdde",
   "metadata": {},
   "outputs": [],
   "source": [
    "# load files\n",
    "f_kritias = open('Kritias.txt', 'r')\n",
    "#f_timaeus = open('Timaeus.txt', 'r')\n",
    "f_stop_words = open('smart.txt', 'r')  # from exercise sheet 09"
   ]
  },
  {
   "cell_type": "code",
   "execution_count": 7,
   "id": "06c14fdc-469d-484a-bc14-358687347ff7",
   "metadata": {},
   "outputs": [],
   "source": [
    "# methods to process words from abstract analogous to exercise sheet 09\n",
    "\n",
    "def tidy_and_stem(words):\n",
    "    # remove '\\'\n",
    "    words = [word.replace('\\'', '') for word in words]\n",
    "    # remove non-alphabetic characters\n",
    "    words = [word for word in words if word.isalpha()]\n",
    "    # stem\n",
    "    ps = nltk.stem.PorterStemmer()\n",
    "    return [ps.stem(word) for word in words]\n",
    "\n",
    "def get_preprocessed_words(abstract, stop_words):\n",
    "    # remove special characters\n",
    "    abstract = re.sub(r'\\s+|[.,;!?()\\\"-]+', ' ', abstract)\n",
    "    words = abstract.split()\n",
    "    words = tidy_and_stem(words)\n",
    "    # remove stop words\n",
    "    words = [word for word in words if word not in stop_words]\n",
    "    # remove empty strings if there are any\n",
    "    words = [word for word in words if word]\n",
    "    return words"
   ]
  },
  {
   "cell_type": "code",
   "execution_count": 8,
   "id": "77b25f75-f50a-47bb-a64e-38c319abfcf2",
   "metadata": {},
   "outputs": [],
   "source": [
    "stop_words = tidy_and_stem(f_stop_words.read().lower().split())"
   ]
  },
  {
   "cell_type": "code",
   "execution_count": 9,
   "id": "0e7f755c-2b00-4d27-bcaa-538d2f471f36",
   "metadata": {},
   "outputs": [],
   "source": [
    "kriti_sntncs = f_kritias.read().lower().split('.')"
   ]
  },
  {
   "cell_type": "markdown",
   "id": "1aa84550-aa92-4cb8-b7e9-e96be1f9c79c",
   "metadata": {},
   "source": [
    "### 1.2 Term-Sentence Matrix"
   ]
  },
  {
   "cell_type": "code",
   "execution_count": 10,
   "id": "4e3c56dc-51bb-4e5d-9dd7-79541785f5be",
   "metadata": {},
   "outputs": [
    {
     "data": {
      "text/plain": [
       "192"
      ]
     },
     "execution_count": 10,
     "metadata": {},
     "output_type": "execute_result"
    }
   ],
   "source": [
    "# find unique terms\n",
    "# also save cleaned sentences\n",
    "unique_terms_set = set()\n",
    "cleaned_sntncs = []\n",
    "for sentence in kriti_sntncs:\n",
    "    clean_sntnc = \"\"\n",
    "    for term in get_preprocessed_words(sentence, stop_words):\n",
    "        unique_terms_set.add(term)\n",
    "        clean_sntnc = clean_sntnc + \" \" + term\n",
    "    cleaned_sntncs.append(clean_sntnc)\n",
    "unique_terms = list(unique_terms_set)\n",
    "len(cleaned_sntncs)"
   ]
  },
  {
   "cell_type": "code",
   "execution_count": 11,
   "id": "e6baa3fc-0612-4757-8d49-d2257842c014",
   "metadata": {},
   "outputs": [
    {
     "data": {
      "text/plain": [
       "['woven',\n",
       " 'prove',\n",
       " 'head',\n",
       " 'divis',\n",
       " 'limb',\n",
       " 'shown',\n",
       " 'familiar',\n",
       " 'side',\n",
       " 'solid',\n",
       " 'figur']"
      ]
     },
     "execution_count": 11,
     "metadata": {},
     "output_type": "execute_result"
    }
   ],
   "source": [
    "unique_terms[0:10]"
   ]
  },
  {
   "cell_type": "code",
   "execution_count": 12,
   "id": "f2bb0c11-33b5-42c3-909f-9c7ece9c148d",
   "metadata": {},
   "outputs": [
    {
     "data": {
      "text/plain": [
       "False"
      ]
     },
     "execution_count": 12,
     "metadata": {},
     "output_type": "execute_result"
    }
   ],
   "source": [
    "'atlantis' in unique_terms"
   ]
  },
  {
   "cell_type": "code",
   "execution_count": 13,
   "id": "98e9363f-29f0-44ca-b2f4-00023a39baf9",
   "metadata": {},
   "outputs": [
    {
     "data": {
      "text/plain": [
       "True"
      ]
     },
     "execution_count": 13,
     "metadata": {},
     "output_type": "execute_result"
    }
   ],
   "source": [
    "'atlanti' in unique_terms"
   ]
  },
  {
   "cell_type": "code",
   "execution_count": 14,
   "id": "71eabc5b-ca3e-46d7-a85e-8043f28847b5",
   "metadata": {},
   "outputs": [
    {
     "data": {
      "text/plain": [
       "True"
      ]
     },
     "execution_count": 14,
     "metadata": {},
     "output_type": "execute_result"
    }
   ],
   "source": [
    "'atlant' in unique_terms"
   ]
  },
  {
   "cell_type": "code",
   "execution_count": 15,
   "id": "9b54268e-b735-433b-946f-40b09bc6d6c2",
   "metadata": {},
   "outputs": [
    {
     "data": {
      "text/plain": [
       "False"
      ]
     },
     "execution_count": 15,
     "metadata": {},
     "output_type": "execute_result"
    }
   ],
   "source": [
    "'atlan' in unique_terms"
   ]
  },
  {
   "cell_type": "code",
   "execution_count": 16,
   "id": "92c33965-d1ea-47ec-8f88-dcea8a00bd85",
   "metadata": {},
   "outputs": [
    {
     "data": {
      "text/plain": [
       "True"
      ]
     },
     "execution_count": 16,
     "metadata": {},
     "output_type": "execute_result"
    }
   ],
   "source": [
    "'atla' in unique_terms"
   ]
  },
  {
   "cell_type": "code",
   "execution_count": 17,
   "id": "d5469db5-59e3-465e-8124-66a08cb79ea7",
   "metadata": {},
   "outputs": [
    {
     "data": {
      "text/plain": [
       "[' socrat arriv weari travel long journey rest pray reveal grant word endur spoken accept unintent wrong pray impos retribut retribut err set',\n",
       " ' speak futur gener god pray knowledg medicin perfect',\n",
       " ' offer prayer deliv argument critia speak agreement']"
      ]
     },
     "execution_count": 17,
     "metadata": {},
     "output_type": "execute_result"
    }
   ],
   "source": [
    "cleaned_sntncs[0:3]"
   ]
  },
  {
   "cell_type": "code",
   "execution_count": 18,
   "id": "4df65c93-19c4-4e93-bcbf-090d23163f8f",
   "metadata": {},
   "outputs": [],
   "source": [
    "# create term-sentence matrix (which is a term-document matrix where the documents are sentences)\n",
    "term_sntnc_matrix = [\n",
    "    [\n",
    "        sum(1 for word in re.findall(r'\\b\\w+\\b', sntnc) if term in sntnc) for sntnc in cleaned_sntncs\n",
    "    ]\n",
    "    for term in unique_terms\n",
    "]"
   ]
  },
  {
   "cell_type": "code",
   "execution_count": 19,
   "id": "32051321-81ed-46f4-adb2-6fc45d2a8ce1",
   "metadata": {},
   "outputs": [
    {
     "data": {
      "text/plain": [
       "matrix([[ 0,  0,  0, ..., 14,  0,  0],\n",
       "        [ 0,  0,  0, ...,  0,  0,  0],\n",
       "        [ 0,  0,  0, ...,  0,  0,  0],\n",
       "        ...,\n",
       "        [ 0,  0,  0, ...,  0,  0,  0],\n",
       "        [ 0,  0,  0, ...,  0,  0,  0],\n",
       "        [ 0,  0,  0, ...,  0,  0,  0]])"
      ]
     },
     "execution_count": 19,
     "metadata": {},
     "output_type": "execute_result"
    }
   ],
   "source": [
    "A = np.asmatrix(term_sntnc_matrix)\n",
    "A"
   ]
  },
  {
   "cell_type": "code",
   "execution_count": 20,
   "id": "fa4280f5-69c1-4804-807a-2e681dc1a996",
   "metadata": {},
   "outputs": [
    {
     "data": {
      "text/plain": [
       "59348"
      ]
     },
     "execution_count": 20,
     "metadata": {},
     "output_type": "execute_result"
    }
   ],
   "source": [
    "np.sum(A)"
   ]
  },
  {
   "cell_type": "markdown",
   "id": "aee3bf9d-0e64-43be-a4d3-72aefd92b82a",
   "metadata": {},
   "source": [
    "### 1.3 Try to find term discrepancy in halves"
   ]
  },
  {
   "cell_type": "code",
   "execution_count": 21,
   "id": "a88b39e3-2e87-4818-b003-c6ec93166ae9",
   "metadata": {},
   "outputs": [
    {
     "data": {
      "text/plain": [
       "['divin',\n",
       " 'width',\n",
       " 'atlanti',\n",
       " 'hundr',\n",
       " 'roof',\n",
       " 'theme',\n",
       " 'round',\n",
       " 'bring',\n",
       " 'size',\n",
       " 'poseidon',\n",
       " 'ten',\n",
       " 'timaeu',\n",
       " 'gold',\n",
       " 'pass',\n",
       " 'memori',\n",
       " 'hermocr',\n",
       " 'law',\n",
       " 'length',\n",
       " 'person',\n",
       " 'wisdom',\n",
       " 'templ',\n",
       " 'continu',\n",
       " 'descend',\n",
       " 'build',\n",
       " 'natur',\n",
       " 'stadium',\n",
       " 'offer']"
      ]
     },
     "execution_count": 21,
     "metadata": {},
     "output_type": "execute_result"
    }
   ],
   "source": [
    "# we don't know where ChatGPT took over, but we know that the first half\n",
    "# of the text has a bigger percentage of original words than the second\n",
    "half = len(cleaned_sntncs)//2\n",
    "first_half = cleaned_sntncs[:half]\n",
    "second_half = cleaned_sntncs[half:]\n",
    "# count terms\n",
    "\n",
    "def cnt_term(sentences, term):\n",
    "    return sum(1 for sntnc in sentences if term in re.findall(r'\\b\\w+\\b', sntnc))\n",
    "    \n",
    "def cnt_all_terms(sentences):\n",
    "    return [cnt_term(sentences, term) for term in unique_terms]\n",
    "    \n",
    "term_cnt_first = cnt_all_terms(first_half)\n",
    "term_cnt_second = cnt_all_terms(second_half)\n",
    "# find words that appeared at least twice as often in the second half and at least 5 times\n",
    "second_half_terms = [\n",
    "    term for term, count_first, count_second in zip(unique_terms, term_cnt_first, term_cnt_second)\n",
    "    if count_second >= 2 * count_first and (count_first + count_second) >= 5\n",
    "]\n",
    "second_half_terms"
   ]
  },
  {
   "cell_type": "code",
   "execution_count": 22,
   "id": "cadf7361-0108-4ef4-a601-d99b55e02d12",
   "metadata": {},
   "outputs": [
    {
     "data": {
      "text/plain": [
       "['side',\n",
       " 'sea',\n",
       " 'made',\n",
       " 'citizen',\n",
       " 'requir',\n",
       " 'sort',\n",
       " 'anim',\n",
       " 'abund',\n",
       " 'largest',\n",
       " 'world',\n",
       " 'exist',\n",
       " 'begin',\n",
       " 'left',\n",
       " 'countri',\n",
       " 'day',\n",
       " 'children',\n",
       " 'receiv',\n",
       " 'cover',\n",
       " 'acropoli',\n",
       " 'thing',\n",
       " 'call',\n",
       " 'set',\n",
       " 'men',\n",
       " 'wood',\n",
       " 'make',\n",
       " 'long',\n",
       " 'water',\n",
       " 'speak',\n",
       " 'man',\n",
       " 'extend',\n",
       " 'ancient',\n",
       " 'common',\n",
       " 'river',\n",
       " 'twin',\n",
       " 'island',\n",
       " 'pair',\n",
       " 'hill',\n",
       " 'suitabl',\n",
       " 'soil',\n",
       " 'dwelt',\n",
       " 'earth',\n",
       " 'time',\n",
       " 'land',\n",
       " 'indulg']"
      ]
     },
     "execution_count": 22,
     "metadata": {},
     "output_type": "execute_result"
    }
   ],
   "source": [
    "# find words that appeared at least twice as often in the first half and at least 5 times\n",
    "first_half_terms = [\n",
    "    term for term, count_first, count_second in zip(unique_terms, term_cnt_first, term_cnt_second)\n",
    "    if 2 * count_second <= count_first and (count_first + count_second) >= 5\n",
    "]\n",
    "first_half_terms"
   ]
  },
  {
   "cell_type": "code",
   "execution_count": 23,
   "id": "6a2fce65-679b-47e7-a305-9b5f76429b99",
   "metadata": {},
   "outputs": [
    {
     "data": {
      "text/plain": [
       "[-162,\n",
       " -158,\n",
       " -156,\n",
       " -156,\n",
       " -156,\n",
       " -154,\n",
       " -148,\n",
       " -146,\n",
       " -146,\n",
       " -132,\n",
       " -132,\n",
       " -132,\n",
       " -126,\n",
       " -122,\n",
       " -122,\n",
       " -122,\n",
       " -114,\n",
       " -114,\n",
       " -112,\n",
       " -112,\n",
       " -110,\n",
       " -106,\n",
       " -108,\n",
       " -106,\n",
       " -104,\n",
       " -100,\n",
       " -98,\n",
       " -94,\n",
       " -94,\n",
       " -90,\n",
       " -90,\n",
       " -88,\n",
       " -86,\n",
       " -80,\n",
       " -74,\n",
       " -68,\n",
       " -66,\n",
       " -64,\n",
       " -52,\n",
       " -44,\n",
       " -32,\n",
       " -32,\n",
       " -20,\n",
       " -14,\n",
       " 2,\n",
       " 14,\n",
       " 20,\n",
       " 30,\n",
       " 44,\n",
       " 50,\n",
       " 66,\n",
       " 76,\n",
       " 78,\n",
       " 80,\n",
       " 84,\n",
       " 98,\n",
       " 104,\n",
       " 106,\n",
       " 116,\n",
       " 130,\n",
       " 134,\n",
       " 140,\n",
       " 146,\n",
       " 146,\n",
       " 148,\n",
       " 148,\n",
       " 148,\n",
       " 148,\n",
       " 150,\n",
       " 152,\n",
       " 154,\n",
       " 158,\n",
       " 162,\n",
       " 172,\n",
       " 184,\n",
       " 192,\n",
       " 202,\n",
       " 206,\n",
       " 216,\n",
       " 222,\n",
       " 226,\n",
       " 232,\n",
       " 234,\n",
       " 238,\n",
       " 240,\n",
       " 248,\n",
       " 252,\n",
       " 258,\n",
       " 268,\n",
       " 286,\n",
       " 286,\n",
       " 294,\n",
       " 292,\n",
       " 294,\n",
       " 300,\n",
       " 306,\n",
       " 308,\n",
       " 306,\n",
       " 310,\n",
       " 310,\n",
       " 306,\n",
       " 306,\n",
       " 298,\n",
       " 288,\n",
       " 286,\n",
       " 280,\n",
       " 274,\n",
       " 270,\n",
       " 258,\n",
       " 254,\n",
       " 256,\n",
       " 254,\n",
       " 254,\n",
       " 254,\n",
       " 256,\n",
       " 256,\n",
       " 258,\n",
       " 264,\n",
       " 266,\n",
       " 272,\n",
       " 274,\n",
       " 286,\n",
       " 286,\n",
       " 286,\n",
       " 282,\n",
       " 282,\n",
       " 272,\n",
       " 274,\n",
       " 274,\n",
       " 278,\n",
       " 276,\n",
       " 278,\n",
       " 284,\n",
       " 284,\n",
       " 284,\n",
       " 282,\n",
       " 278,\n",
       " 276,\n",
       " 270,\n",
       " 268,\n",
       " 266,\n",
       " 262,\n",
       " 256,\n",
       " 252,\n",
       " 250,\n",
       " 246,\n",
       " 244,\n",
       " 240,\n",
       " 242,\n",
       " 242,\n",
       " 242,\n",
       " 242,\n",
       " 238,\n",
       " 238,\n",
       " 238,\n",
       " 236,\n",
       " 234,\n",
       " 230,\n",
       " 232,\n",
       " 224,\n",
       " 222,\n",
       " 222,\n",
       " 222,\n",
       " 220,\n",
       " 218,\n",
       " 218,\n",
       " 216,\n",
       " 216,\n",
       " 212,\n",
       " 210,\n",
       " 208,\n",
       " 204,\n",
       " 200,\n",
       " 196,\n",
       " 196,\n",
       " 190,\n",
       " 188,\n",
       " 190,\n",
       " 188,\n",
       " 186,\n",
       " 182,\n",
       " 180,\n",
       " 180,\n",
       " 180,\n",
       " 178,\n",
       " 176,\n",
       " 176,\n",
       " 178,\n",
       " 174,\n",
       " 170,\n",
       " 164,\n",
       " 162]"
      ]
     },
     "execution_count": 23,
     "metadata": {},
     "output_type": "execute_result"
    }
   ],
   "source": [
    "# now split kriteas (cleaned_sntncs) in two parts at every point and try to\n",
    "# maximize the discrepancy of the \"significant terms\"\n",
    "discrepency_at_i = []\n",
    "for i in range(len(cleaned_sntncs)):\n",
    "    first_part = cleaned_sntncs[:i]\n",
    "    second_part = cleaned_sntncs[i:]\n",
    "    discrepency = 0\n",
    "    for term in second_half_terms:\n",
    "        first_cnt = cnt_term(first_part, term)\n",
    "        second_cnt = cnt_term(second_part, term)\n",
    "        # ideally second_cnt is larger here\n",
    "        discrepency += (second_cnt - first_cnt)\n",
    "    for term in first_half_terms:\n",
    "        first_cnt = cnt_term(first_part, term)\n",
    "        second_cnt = cnt_term(second_part, term)\n",
    "        # ideally first_cnt is larger here\n",
    "        discrepency += (first_cnt - second_cnt)\n",
    "    discrepency_at_i.append(discrepency)\n",
    "discrepency_at_i"
   ]
  },
  {
   "cell_type": "code",
   "execution_count": 24,
   "id": "080f2cd5-65a9-49fe-b22b-3bc0d05c4e62",
   "metadata": {},
   "outputs": [
    {
     "data": {
      "text/plain": [
       "[<matplotlib.lines.Line2D at 0x7f0e5f9013f0>]"
      ]
     },
     "execution_count": 24,
     "metadata": {},
     "output_type": "execute_result"
    },
    {
     "data": {
      "image/png": "[encoded data removed]",
      "text/plain": [
       "<Figure size 640x480 with 1 Axes>"
      ]
     },
     "metadata": {},
     "output_type": "display_data"
    }
   ],
   "source": [
    "# plot\n",
    "x = list(range(len(discrepency_at_i)))\n",
    "plt.plot(x, discrepency_at_i, marker='.')"
   ]
  },
  {
   "cell_type": "code",
   "execution_count": 25,
   "id": "26793701-08a3-48c8-91c6-9c154e5c3d86",
   "metadata": {},
   "outputs": [
    {
     "data": {
      "text/plain": [
       "98"
      ]
     },
     "execution_count": 25,
     "metadata": {},
     "output_type": "execute_result"
    }
   ],
   "source": [
    "# find index of maximum value\n",
    "# Hypothesis: this is the point where ChatGPT took over\n",
    "discrepency_at_i.index(max(discrepency_at_i))"
   ]
  },
  {
   "cell_type": "markdown",
   "id": "83708305-ac41-46c4-80c1-90c93f069e46",
   "metadata": {},
   "source": [
    "#### 1.4 SVD"
   ]
  },
  {
   "cell_type": "code",
   "execution_count": 26,
   "id": "5e1bc6ea-b788-47d1-b31c-f550a8d23f91",
   "metadata": {},
   "outputs": [
    {
     "data": {
      "text/plain": [
       "matrix([[11132,   176,   154, ...,   308,   220,     0],\n",
       "        [  176,   576,   112, ...,     0,    80,     0],\n",
       "        [  154,   112,   539, ...,    98,    70,     0],\n",
       "        ...,\n",
       "        [  308,     0,    98, ...,  3136,     0,     0],\n",
       "        [  220,    80,    70, ...,     0,  1700,     0],\n",
       "        [    0,     0,     0, ...,     0,     0,     0]])"
      ]
     },
     "execution_count": 26,
     "metadata": {},
     "output_type": "execute_result"
    }
   ],
   "source": [
    "# compute AtA\n",
    "At = A.T\n",
    "AtA = At @ A  # matrix-multiplication of numpy\n",
    "AtA"
   ]
  },
  {
   "cell_type": "code",
   "execution_count": 27,
   "id": "d3ff8d66-9cde-4123-bcd6-1e0ff7a5f5b7",
   "metadata": {},
   "outputs": [
    {
     "data": {
      "text/plain": [
       "array([438.30201706, 367.41692441, 333.15787153, 282.80281341,\n",
       "       278.24821959, 246.50765509, 240.71871902, 210.38077331,\n",
       "       203.65403162, 197.87782173])"
      ]
     },
     "execution_count": 27,
     "metadata": {},
     "output_type": "execute_result"
    }
   ],
   "source": [
    "# get eigenvalues sorted ascendingly\n",
    "eigenvalues = np.linalg.eigvals(AtA)\n",
    "# turn into singular values\n",
    "singular_values = np.sqrt(eigenvalues)\n",
    "# construct S (or Sigma)\n",
    "S = np.diag(singular_values)\n",
    "singular_values[0:10]"
   ]
  },
  {
   "cell_type": "code",
   "execution_count": 28,
   "id": "22af38be-75e0-4bd8-af36-d76e1bf993ef",
   "metadata": {},
   "outputs": [
    {
     "data": {
      "text/plain": [
       "matrix([[ 3.53982743e-02,  3.15746612e-03,  5.90780376e-03, ...,\n",
       "          3.01636624e-03,  1.12046470e-02,  0.00000000e+00],\n",
       "        [ 2.22316260e-02,  3.36466996e-03,  4.36995833e-03, ...,\n",
       "          2.67140836e-03,  8.13027345e-03,  0.00000000e+00],\n",
       "        [-4.46166505e-02, -8.49435161e-03, -8.04709287e-03, ...,\n",
       "         -5.05256867e-03,  3.72055665e-03,  0.00000000e+00],\n",
       "        ...,\n",
       "        [-4.69540270e-06,  2.72914523e-04,  1.73821359e-04, ...,\n",
       "          1.17679207e-04,  5.53403708e-04,  0.00000000e+00],\n",
       "        [ 4.38932057e-17,  4.43793062e-17,  9.74406733e-16, ...,\n",
       "         -5.44081058e-16, -8.32956418e-17,  0.00000000e+00],\n",
       "        [ 0.00000000e+00,  0.00000000e+00,  0.00000000e+00, ...,\n",
       "          0.00000000e+00,  0.00000000e+00,  1.00000000e+00]])"
      ]
     },
     "execution_count": 28,
     "metadata": {},
     "output_type": "execute_result"
    }
   ],
   "source": [
    "# get eigenvectors (sorted by eigenvalues)\n",
    "eigenvectors = np.linalg.eig(AtA).eigenvectors\n",
    "# construct Vt\n",
    "V = eigenvectors\n",
    "Vt = V.T\n",
    "Vt"
   ]
  },
  {
   "cell_type": "code",
   "execution_count": 29,
   "id": "15eb60c1-80e5-446d-9bd2-0e83d1bc69e2",
   "metadata": {},
   "outputs": [
    {
     "data": {
      "text/plain": [
       "matrix([[ 9.63470978e-05,  1.01790948e-04, -2.12319646e-04, ...,\n",
       "          1.88483490e-03, -4.61249744e-08,  0.00000000e+00],\n",
       "        [ 8.53371263e-03, -9.27762047e-04, -3.73609637e-03, ...,\n",
       "         -1.17851963e-02,  4.27820964e-10,  0.00000000e+00],\n",
       "        [ 1.13186563e-03,  1.70134808e-03, -5.98427935e-04, ...,\n",
       "          9.36619743e-04,  7.49120524e-10,  0.00000000e+00],\n",
       "        ...,\n",
       "        [ 3.62634879e-04,  2.54021100e-04, -3.04427692e-05, ...,\n",
       "         -6.53692896e-03, -5.68951339e-09,  0.00000000e+00],\n",
       "        [ 1.50481261e-03,  6.30116549e-04, -2.33105314e-04, ...,\n",
       "         -3.30406412e-03, -1.10514957e-09,  0.00000000e+00],\n",
       "        [ 1.84025108e-05,  3.91917399e-05, -9.20337586e-06, ...,\n",
       "         -7.12442236e-03,  1.66458363e-09,  0.00000000e+00]])"
      ]
     },
     "execution_count": 29,
     "metadata": {},
     "output_type": "execute_result"
    }
   ],
   "source": [
    "# compute U\n",
    "U = A @ V @ np.linalg.pinv(S)\n",
    "U"
   ]
  },
  {
   "cell_type": "code",
   "execution_count": 30,
   "id": "36d03358-82a7-4ee2-a0c6-c9f419cbb75c",
   "metadata": {},
   "outputs": [
    {
     "name": "stdout",
     "output_type": "stream",
     "text": [
      "npS: 438.30201705611495, sv: 438.3020170561152\n",
      "npS: 367.41692441298767, sv: 367.4169244129882\n",
      "npS: 333.157871530237, sv: 333.15787153023695\n",
      "npS: 282.8028134105261, sv: 282.8028134105259\n",
      "npS: 278.2482195872616, sv: 278.24821958726153\n",
      "npS: 246.50765509251065, sv: 246.5076550925103\n",
      "npS: 240.7187190237314, sv: 240.71871902373186\n",
      "npS: 210.38077331309273, sv: 210.38077331309321\n",
      "npS: 203.65403162010378, sv: 203.6540316201036\n",
      "npS: 197.87782173400043, sv: 197.87782173400075\n",
      "npS: 181.27144806930048, sv: 181.27144806930067\n",
      "npS: 176.94430584935023, sv: 176.9443058493504\n",
      "npS: 171.15487518146568, sv: 171.1548751814651\n",
      "npS: 164.3365179505011, sv: 164.33651795050105\n",
      "npS: 163.37731451327255, sv: 163.37731451327247\n",
      "npS: 154.63613161575694, sv: 154.63613161575688\n",
      "npS: 151.0954562081385, sv: 151.0954562081387\n",
      "npS: 148.68017759587724, sv: 148.68017759587767\n",
      "npS: 141.44488737100565, sv: 141.4448873710058\n",
      "npS: 137.86719025072233, sv: 137.86719025072222\n",
      "npS: 136.72471511522937, sv: 135.72439312647856\n",
      "npS: 135.72439312647884, sv: 136.72471511522934\n",
      "npS: 130.82899197834197, sv: 130.82899197834178\n",
      "npS: 127.85860524191658, sv: 127.85860524191683\n",
      "npS: 122.70275724194852, sv: 122.70275724194835\n",
      "npS: 121.87866559740733, sv: 121.87866559740712\n",
      "npS: 119.48663568231592, sv: 119.48663568231582\n",
      "npS: 117.82258382657673, sv: 117.82258382657638\n",
      "npS: 116.42844735607572, sv: 116.42844735607565\n",
      "npS: 114.70312321289678, sv: 114.70312321289717\n",
      "npS: 109.15070998853136, sv: 109.15070998853122\n",
      "npS: 105.7683072476766, sv: 105.76830724767666\n",
      "npS: 105.26929458738623, sv: 105.2692945873863\n",
      "npS: 103.61703873786553, sv: 103.61703873786574\n",
      "npS: 102.1790252753235, sv: 102.17902527532362\n",
      "npS: 99.64389684102427, sv: 99.64389684102434\n",
      "npS: 96.39050918145489, sv: 96.39050918145504\n",
      "npS: 93.82353698193566, sv: 93.36985492919865\n",
      "npS: 93.36985492919852, sv: 93.82353698193569\n",
      "npS: 91.46291032329708, sv: 91.4629103232969\n",
      "npS: 90.68928466187991, sv: 90.6892846618799\n",
      "npS: 89.2090271502381, sv: 89.20902715023806\n",
      "npS: 88.18170807296258, sv: 88.18170807296265\n",
      "npS: 83.55792908773198, sv: 83.55792908773196\n",
      "npS: 82.57034545192907, sv: 82.570345451929\n",
      "npS: 81.84840467701746, sv: 81.84840467701743\n",
      "npS: 80.17414416710129, sv: 80.17414416710123\n",
      "npS: 78.59306809176243, sv: 78.51301123109576\n",
      "npS: 78.51301123109583, sv: 78.59306809176239\n",
      "npS: 76.98480273528584, sv: 76.98480273528594\n",
      "npS: 76.44665734402574, sv: 76.44665734402581\n",
      "npS: 75.4545016930172, sv: 75.45450169301719\n",
      "npS: 74.68651890927724, sv: 74.68651890927728\n",
      "npS: 71.87448309967922, sv: 71.87448309967915\n",
      "npS: 70.19007781393515, sv: 70.19007781393503\n",
      "npS: 68.69954526974107, sv: 68.69954526974101\n",
      "npS: 68.31753094130592, sv: 68.31753094130595\n",
      "npS: 66.30490517753579, sv: 66.3049051775358\n",
      "npS: 64.65449648229749, sv: 64.65449648229753\n",
      "npS: 63.89660335498848, sv: 63.896603354988436\n",
      "npS: 61.86830052767577, sv: 61.868300527675636\n",
      "npS: 61.12031435460164, sv: 61.12031435460171\n",
      "npS: 60.09155328357747, sv: 60.091553283577426\n",
      "npS: 59.18356859484958, sv: 59.18356859484957\n",
      "npS: 57.17892528419668, sv: 57.17892528419675\n",
      "npS: 55.851327326246285, sv: 55.851327326246334\n",
      "npS: 54.515862227209276, sv: 54.51586222720923\n",
      "npS: 53.12537708966411, sv: 53.12537708966423\n",
      "npS: 51.90517244928039, sv: 51.90517244928054\n",
      "npS: 51.179213891991125, sv: 51.179213891991125\n",
      "npS: 50.73118709631475, sv: 50.73118709631473\n",
      "npS: 49.435021581068696, sv: 49.43502158106867\n",
      "npS: 48.24346180138988, sv: 48.24346180138991\n",
      "npS: 47.41809767755865, sv: 47.41809767755862\n",
      "npS: 46.14503734483463, sv: 46.145037344834634\n",
      "npS: 45.70470521628367, sv: 45.704705216283585\n",
      "npS: 44.79778731342629, sv: 44.797787313426404\n",
      "npS: 43.89169280912827, sv: 43.89169280912828\n",
      "npS: 43.344758167283146, sv: 42.57814862915178\n",
      "npS: 43.276343370601985, sv: 43.3447581672832\n",
      "npS: 42.57814862915178, sv: 43.27634337060189\n",
      "npS: 41.306949858940555, sv: 41.16830520970618\n",
      "npS: 41.16830520970636, sv: 41.30694985894051\n",
      "npS: 40.138544208185124, sv: 40.13854420818513\n",
      "npS: 39.92228248096189, sv: 39.9222824809619\n",
      "npS: 38.94186016527079, sv: 38.94186016527073\n",
      "npS: 38.80423390420404, sv: 38.80423390420398\n",
      "npS: 38.259079646359936, sv: 38.25907964635989\n",
      "npS: 38.041904495455704, sv: 38.04190449545575\n",
      "npS: 37.26644106615318, sv: 36.521905707022434\n",
      "npS: 36.91411232235706, sv: 36.91411232235709\n",
      "npS: 36.52190570702243, sv: 37.26644106615316\n",
      "npS: 35.542815187443864, sv: 35.54281518744383\n",
      "npS: 35.48690429010658, sv: 35.486904290106565\n",
      "npS: 35.117321239457524, sv: 35.117321239457524\n",
      "npS: 34.28415432130825, sv: 34.28415432130821\n",
      "npS: 34.14114630922982, sv: 34.14114630922971\n",
      "npS: 33.6901876281944, sv: 33.69018762819435\n",
      "npS: 33.166430519776064, sv: 33.16643051977604\n",
      "npS: 32.83994586707824, sv: 32.71351457467895\n",
      "npS: 32.713514574678975, sv: 32.83994586707819\n",
      "npS: 32.12295152579445, sv: 32.12295152579441\n",
      "npS: 31.972958924871158, sv: 31.972958924871108\n",
      "npS: 31.797295378384618, sv: 31.797295378384625\n",
      "npS: 31.190119459696774, sv: 31.190119459696767\n",
      "npS: 30.821411866736213, sv: 30.821411866736195\n",
      "npS: 30.61630130362249, sv: 30.616301303622475\n",
      "npS: 30.147608676722967, sv: 30.01753939172359\n",
      "npS: 30.017539391723616, sv: 30.147608676723006\n",
      "npS: 29.388432500626333, sv: 29.38843250062633\n",
      "npS: 28.75614832957452, sv: 28.756148329574515\n",
      "npS: 28.67711116180238, sv: 28.677111161802433\n",
      "npS: 27.880601601858054, sv: 27.22945379138375\n",
      "npS: 27.22945379138374, sv: 27.88060160185806\n",
      "npS: 26.374457134862602, sv: 26.374457134862524\n",
      "npS: 25.966919445796737, sv: 25.966919445796716\n",
      "npS: 25.78241132648827, sv: 25.782411326488226\n",
      "npS: 25.26306420175773, sv: 25.26306420175768\n",
      "npS: 25.116633221721095, sv: 25.116633221721166\n",
      "npS: 24.603167473289467, sv: 22.00740947879543\n",
      "npS: 24.482592913902494, sv: 24.60316747328944\n",
      "npS: 24.255333783610563, sv: 24.48259291390249\n",
      "npS: 23.876880499993234, sv: 24.255333783610475\n",
      "npS: 23.528878936254543, sv: 23.8768804999932\n",
      "npS: 23.28604986290106, sv: 23.52887893625447\n",
      "npS: 22.92246844558737, sv: 23.28604986290112\n",
      "npS: 22.663662842710846, sv: 22.922468445587437\n",
      "npS: 22.616276164598297, sv: 22.663662842710828\n",
      "npS: 22.00740947879545, sv: 22.61627616459833\n",
      "npS: 21.630729343060402, sv: 20.643608765360465\n",
      "npS: 21.26370230578951, sv: 21.263702305789526\n",
      "npS: 20.643608765360494, sv: 21.630729343060377\n",
      "npS: 20.463509755301143, sv: 19.246307329946994\n",
      "npS: 20.13424459068304, sv: 19.44785520385872\n",
      "npS: 20.027728110198048, sv: 20.46350975530115\n",
      "npS: 19.447855203858726, sv: 20.027728110198016\n",
      "npS: 19.246307329947026, sv: 20.134244590683036\n",
      "npS: 18.98045250232725, sv: 18.98045250232731\n",
      "npS: 18.523824716613152, sv: 18.52382471661315\n",
      "npS: 18.107084725024794, sv: 18.10708472502482\n",
      "npS: 17.735382452035932, sv: 17.735382452035903\n",
      "npS: 17.41167364140785, sv: 17.411673641407827\n",
      "npS: 16.842256000217127, sv: 16.485792466477946\n",
      "npS: 16.48579246647795, sv: 16.093005383297847\n",
      "npS: 16.093005383297836, sv: 15.43825271606947\n",
      "npS: 15.43825271606947, sv: 15.1948067967442\n",
      "npS: 15.276878271446295, sv: 15.276878271446293\n",
      "npS: 15.1948067967442, sv: 14.477885273838536\n",
      "npS: 14.801269221567468, sv: 13.65257848820482\n",
      "npS: 14.746524917964315, sv: 13.54417566670056\n",
      "npS: 14.477885273838533, sv: 14.746524917964297\n",
      "npS: 13.652578488204876, sv: 13.054873479822485\n",
      "npS: 13.544175666700554, sv: 12.118058636379688\n",
      "npS: 13.054873479822481, sv: 12.557080474977143\n",
      "npS: 12.755485163282907, sv: 11.611687037697903\n",
      "npS: 12.699412125448044, sv: 10.96989498726149\n",
      "npS: 12.55708047497713, sv: 7.446344389886349\n",
      "npS: 12.118058636379692, sv: 6.288491406027509\n",
      "npS: 11.611687037697884, sv: 8.51654819307027\n",
      "npS: 10.969894987261496, sv: 8.561220028324664\n",
      "npS: 10.847126713628544, sv: 8.879769965577113\n",
      "npS: 10.602897871116774, sv: 5.5678712323857855\n",
      "npS: 10.387964469670782, sv: 5.470248600860692\n",
      "npS: 10.133893026339194, sv: 12.699412125448045\n",
      "npS: 9.931617483039803, sv: 3.7977282344639027\n",
      "npS: 9.811781290153435, sv: 2.591143250050794\n",
      "npS: 9.344243758931746, sv: 16.842256000217166\n",
      "npS: 9.146447290401499, sv: 14.801269221567456\n",
      "npS: 8.879769965577122, sv: 12.75548516328293\n",
      "npS: 8.561220028324673, sv: 2.4501643336967067\n",
      "npS: 8.516548193070292, sv: 4.139413056235866\n",
      "npS: 7.4463443898863435, sv: 4.7222766382596975\n",
      "npS: 6.288491406027545, sv: 10.60289787111677\n",
      "npS: 5.567871232385802, sv: 10.387964469670791\n",
      "npS: 5.470248600860628, sv: 9.811781290153455\n",
      "npS: 5.193172388754307, sv: 9.93161748303981\n",
      "npS: 4.722276638259714, sv: 9.344243758931752\n",
      "npS: 4.586109042099794, sv: 10.84712671362854\n",
      "npS: 4.466411460003461, sv: 9.146447290401497\n",
      "npS: 4.328147124605224, sv: 0.5601760110401559\n",
      "npS: 4.139413056235833, sv: 1.07441196440825\n",
      "npS: 3.7977282344638184, sv: 5.193172388754217\n",
      "npS: 2.591143250050674, sv: 4.466411460003549\n",
      "npS: 2.450164333696842, sv: 4.586109042099819\n",
      "npS: 2.333894280390832, sv: 4.328147124605293\n",
      "npS: 1.0744119644083594, sv: 2.3338942803910587\n",
      "npS: 0.9685963937544843, sv: 10.13389302633918\n",
      "npS: 0.8740865861508508, sv: 0.9685963937544779\n",
      "npS: 0.8400315186135703, sv: 0.8400315186135812\n",
      "npS: 0.5601760110403712, sv: 0.8740865861507671\n",
      "npS: 3.54621491872812e-14, sv: 1.6514122574940904e-07\n",
      "npS: 3.5462149187281195e-14, sv: 0.0\n"
     ]
    }
   ],
   "source": [
    "# compare results to numpy.linalg.svd()\n",
    "npU, npS, npVt = np.linalg.svd(A)\n",
    "for i in range(len(npS)):\n",
    "    print(\"npS: \" + str(npS[i]) + \", sv: \" + str(singular_values[i]))\n",
    "# they differ in some places"
   ]
  },
  {
   "cell_type": "code",
   "execution_count": 31,
   "id": "d112428d-af00-4333-9cbb-34a8b3ab0325",
   "metadata": {},
   "outputs": [
    {
     "data": {
      "text/plain": [
       "matrix([[-3.53982743e-02, -3.15746612e-03, -5.90780376e-03, ...,\n",
       "         -3.01636624e-03, -1.12046470e-02,  0.00000000e+00],\n",
       "        [-2.22316260e-02, -3.36466996e-03, -4.36995833e-03, ...,\n",
       "         -2.67140836e-03, -8.13027345e-03,  0.00000000e+00],\n",
       "        [-4.46166505e-02, -8.49435161e-03, -8.04709287e-03, ...,\n",
       "         -5.05256867e-03,  3.72055665e-03,  0.00000000e+00],\n",
       "        ...,\n",
       "        [ 2.94515559e-04, -1.46690320e-03,  7.21476416e-03, ...,\n",
       "         -1.99512105e-03, -1.25307429e-04,  0.00000000e+00],\n",
       "        [ 0.00000000e+00,  3.16076738e-17, -5.71375463e-18, ...,\n",
       "          3.78762820e-17,  1.40796572e-16,  0.00000000e+00],\n",
       "        [ 0.00000000e+00,  0.00000000e+00,  0.00000000e+00, ...,\n",
       "          0.00000000e+00,  0.00000000e+00,  1.00000000e+00]])"
      ]
     },
     "execution_count": 31,
     "metadata": {},
     "output_type": "execute_result"
    }
   ],
   "source": [
    "npVt"
   ]
  },
  {
   "cell_type": "code",
   "execution_count": 32,
   "id": "35d743b1-af22-4ef1-83bd-b35f7d1ba7dc",
   "metadata": {},
   "outputs": [
    {
     "data": {
      "text/plain": [
       "matrix([[-9.63470978e-05, -1.01790948e-04, -2.12319646e-04, ...,\n",
       "          1.45684521e-03, -4.97536028e-03, -2.37128175e-03],\n",
       "        [-8.53371263e-03,  9.27762047e-04, -3.73609637e-03, ...,\n",
       "          1.09230934e-02,  7.21239796e-03,  2.92902186e-03],\n",
       "        [-1.13186563e-03, -1.70134808e-03, -5.98427935e-04, ...,\n",
       "          3.74383747e-03, -1.32696269e-02,  4.62551168e-04],\n",
       "        ...,\n",
       "        [-3.62634879e-04, -2.54021100e-04, -3.04427692e-05, ...,\n",
       "          8.97424105e-01,  5.25907589e-03,  2.51963353e-03],\n",
       "        [-1.50481261e-03, -6.30116549e-04, -2.33105314e-04, ...,\n",
       "          4.75124697e-03,  9.27060714e-01,  3.16525044e-03],\n",
       "        [-1.84025108e-05, -3.91917399e-05, -9.20337586e-06, ...,\n",
       "          1.21558851e-03,  3.00745739e-03,  7.51656442e-01]])"
      ]
     },
     "execution_count": 32,
     "metadata": {},
     "output_type": "execute_result"
    }
   ],
   "source": [
    "npU"
   ]
  },
  {
   "cell_type": "markdown",
   "id": "cb5c2e35-6193-4c5c-a40d-ca89c257fc09",
   "metadata": {},
   "source": [
    "### 1.5 Reducing the Dimension"
   ]
  },
  {
   "cell_type": "code",
   "execution_count": 33,
   "id": "055d5e79-0bcf-4e1e-a0f4-f1e7605ac9ee",
   "metadata": {},
   "outputs": [],
   "source": [
    "U, Sigma, Vt = np.linalg.svd(A, full_matrices=False)"
   ]
  },
  {
   "cell_type": "code",
   "execution_count": 34,
   "id": "db3fb3f9-71d2-4b55-8c3d-2bc7056d9109",
   "metadata": {},
   "outputs": [],
   "source": [
    "k = 10  # Number of dimensions to keep\n",
    "U_k = U[:, :k]\n",
    "Sigma_k = np.diag(Sigma[:k])\n",
    "Vt_k = Vt[:k, :]"
   ]
  },
  {
   "cell_type": "code",
   "execution_count": 35,
   "id": "8d57bd90-c5de-44d1-9c2d-a79ab475f3f2",
   "metadata": {},
   "outputs": [
    {
     "data": {
      "text/plain": [
       "matrix([[ 3.96273663e-03,  3.04930911e-04,  3.49964097e-04, ...,\n",
       "          1.03588673e-02,  1.20160560e-03,  0.00000000e+00],\n",
       "        [-6.30081626e-01, -6.50290898e-02, -5.51937279e-02, ...,\n",
       "          1.33948924e-01,  1.13496215e-01,  0.00000000e+00],\n",
       "        [ 8.82428624e-02,  1.08834928e-02,  1.39079734e-02, ...,\n",
       "          3.82101251e-03,  1.36713571e-02,  0.00000000e+00],\n",
       "        ...,\n",
       "        [ 1.09649589e-02,  9.33368777e-04,  1.06722780e-03, ...,\n",
       "          3.15775957e-03,  1.05145278e-03,  0.00000000e+00],\n",
       "        [ 2.35660889e-02, -2.37628613e-03, -6.36081068e-03, ...,\n",
       "          1.79387193e-02,  3.57290830e-02,  0.00000000e+00],\n",
       "        [ 2.11980218e-03,  3.15592692e-04,  3.85038136e-04, ...,\n",
       "          8.67759774e-06,  4.44136145e-04,  0.00000000e+00]])"
      ]
     },
     "execution_count": 35,
     "metadata": {},
     "output_type": "execute_result"
    }
   ],
   "source": [
    "# re-create the appoximated term-sentence-matrix\n",
    "A_k = U_k @ Sigma_k @ Vt_k\n",
    "A_k"
   ]
  },
  {
   "cell_type": "markdown",
   "id": "af396aca-bb8f-4720-98d0-769d02ce855a",
   "metadata": {},
   "source": [
    "The rows of $A \\in \\mathbb{R}^{m \\times n}$ represent the $m$ terms. \\\n",
    "The columns of $A$ represent the $n$ sentences. \\\n",
    "$U_k \\in \\mathbb{R}^{m \\times k}$ maps the rows of $A_k$ (terms). \\\n",
    "$\\Sigma_k \\in \\mathbb{R}^{k \\times k}$ scales the values. \\\n",
    "$V^t \\in \\mathbb{R}^{k \\times n}$ maps the columns of $A_k$ (sentences)."
   ]
  },
  {
   "cell_type": "code",
   "execution_count": 36,
   "id": "3541aac7-e9d6-4d4b-8c82-238dac89e70b",
   "metadata": {},
   "outputs": [
    {
     "ename": "ValueError",
     "evalue": "shapes (1,10) and (1,10) not aligned: 10 (dim 1) != 1 (dim 0)",
     "output_type": "error",
     "traceback": [
      "\u001b[0;31m---------------------------------------------------------------------------\u001b[0m",
      "\u001b[0;31mValueError\u001b[0m                                Traceback (most recent call last)",
      "Cell \u001b[0;32mIn[36], line 4\u001b[0m\n\u001b[1;32m      2\u001b[0m \u001b[38;5;28;01mdef\u001b[39;00m \u001b[38;5;21msimilarity\u001b[39m(u, v):\n\u001b[1;32m      3\u001b[0m     \u001b[38;5;28;01mreturn\u001b[39;00m np\u001b[38;5;241m.\u001b[39mdot(u, v) \u001b[38;5;241m/\u001b[39m (linalg\u001b[38;5;241m.\u001b[39mnorm(u) \u001b[38;5;241m*\u001b[39m linalg\u001b[38;5;241m.\u001b[39mnorm(v))\n\u001b[0;32m----> 4\u001b[0m similarity_0_1 \u001b[38;5;241m=\u001b[39m \u001b[43msimilarity\u001b[49m\u001b[43m(\u001b[49m\u001b[43mU_k\u001b[49m\u001b[43m[\u001b[49m\u001b[38;5;241;43m0\u001b[39;49m\u001b[43m]\u001b[49m\u001b[43m,\u001b[49m\u001b[43m \u001b[49m\u001b[43mU_k\u001b[49m\u001b[43m[\u001b[49m\u001b[38;5;241;43m1\u001b[39;49m\u001b[43m]\u001b[49m\u001b[43m)\u001b[49m\n",
      "Cell \u001b[0;32mIn[36], line 3\u001b[0m, in \u001b[0;36msimilarity\u001b[0;34m(u, v)\u001b[0m\n\u001b[1;32m      2\u001b[0m \u001b[38;5;28;01mdef\u001b[39;00m \u001b[38;5;21msimilarity\u001b[39m(u, v):\n\u001b[0;32m----> 3\u001b[0m     \u001b[38;5;28;01mreturn\u001b[39;00m \u001b[43mnp\u001b[49m\u001b[38;5;241;43m.\u001b[39;49m\u001b[43mdot\u001b[49m\u001b[43m(\u001b[49m\u001b[43mu\u001b[49m\u001b[43m,\u001b[49m\u001b[43m \u001b[49m\u001b[43mv\u001b[49m\u001b[43m)\u001b[49m \u001b[38;5;241m/\u001b[39m (linalg\u001b[38;5;241m.\u001b[39mnorm(u) \u001b[38;5;241m*\u001b[39m linalg\u001b[38;5;241m.\u001b[39mnorm(v))\n",
      "\u001b[0;31mValueError\u001b[0m: shapes (1,10) and (1,10) not aligned: 10 (dim 1) != 1 (dim 0)"
     ]
    }
   ],
   "source": [
    "# calculating the similarity using cos()\n",
    "def similarity(u, v):\n",
    "    return np.dot(u, v) / (linalg.norm(u) * linalg.norm(v))\n",
    "similarity_0_1 = similarity(U_k[0], U_k[1])"
   ]
  }
 ],
 "metadata": {
  "kernelspec": {
   "display_name": "Python 3 (ipykernel)",
   "language": "python",
   "name": "python3"
  },
  "language_info": {
   "codemirror_mode": {
    "name": "ipython",
    "version": 3
   },
   "file_extension": ".py",
   "mimetype": "text/x-python",
   "name": "python",
   "nbconvert_exporter": "python",
   "pygments_lexer": "ipython3",
   "version": "3.10.12"
  }
 },
 "nbformat": 4,
 "nbformat_minor": 5
}
