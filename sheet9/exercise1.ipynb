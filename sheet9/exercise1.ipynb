{
 "cells": [
  {
   "cell_type": "code",
   "execution_count": 1,
   "metadata": {},
   "outputs": [],
   "source": [
    "import numpy as np"
   ]
  },
  {
   "cell_type": "code",
   "execution_count": 2,
   "metadata": {},
   "outputs": [],
   "source": [
    "# load in data\n",
    "abstracts = []\n",
    "with open('medline/MED.ALL', 'r') as f:\n",
    "    # split by abstracts\n",
    "    abstracts_1 = f.read().split('\\n.I ')\n",
    "    # remove W.\n",
    "    abstracts = [abstr.split('\\n.W\\n')[1] for abstr in abstracts_1]\n",
    "    \n",
    "#normalize\n",
    "abstracts = [abstr.lower() for abstr in abstracts]"
   ]
  },
  {
   "cell_type": "code",
   "execution_count": 3,
   "metadata": {},
   "outputs": [],
   "source": [
    "import nltk\n",
    "# get stopwords\n",
    "stopwords = []\n",
    "with open('smart.txt', 'r') as f:\n",
    "    stopwords = f.read().split('\\n')\n",
    "    # remove empty strings\n",
    "    stopwords = [word for word in stopwords if word]\n",
    "    # remove apostrophes in words\n",
    "    stopwords = [word.replace('\\'', '') for word in stopwords]\n",
    "    # stem words\n",
    "    stemmer = nltk.stem.PorterStemmer()\n",
    "    stopwords = [stemmer.stem(word) for word in stopwords]"
   ]
  },
  {
   "cell_type": "code",
   "execution_count": 4,
   "metadata": {},
   "outputs": [],
   "source": [
    "import re\n",
    "\n",
    "def get_Words(abstract):\n",
    "    words = re.split(r'\\s+|[-().,;!?\\\"]+', abstract.lower())\n",
    "    # remove empty strings\n",
    "    words = [word for word in words if word]\n",
    "    # remove apostrophes in words\n",
    "    words = [word.replace('\\'', '') for word in words]\n",
    "    # remove words with non-alphabetic characters\n",
    "    words = [word for word in words if word.isalpha()]\n",
    "    # stem words\n",
    "    stemmer = nltk.stem.PorterStemmer()\n",
    "    words = [stemmer.stem(word) for word in words]\n",
    "    # remove stopwords\n",
    "    words = [word for word in words if word not in stopwords]\n",
    "    return words"
   ]
  },
  {
   "cell_type": "code",
   "execution_count": 5,
   "metadata": {},
   "outputs": [
    {
     "name": "stdout",
     "output_type": "stream",
     "text": [
      "['relationship', 'blood', 'cerebrospin', 'fluid', 'oxygen', 'concentr', 'partial', 'pressur', 'method', 'interest', 'polarographi']\n"
     ]
    }
   ],
   "source": [
    "Q2 =\" the relationship of blood and cerebrospinal fluid oxygen concentrations or partial pressures.  a method of interest is polarography.\"\n",
    "Q2 = get_Words(Q2)\n",
    "print(Q2)"
   ]
  },
  {
   "cell_type": "code",
   "execution_count": 6,
   "metadata": {},
   "outputs": [
    {
     "name": "stdout",
     "output_type": "stream",
     "text": [
      "8573\n"
     ]
    }
   ],
   "source": [
    "unique_words = set()\n",
    "data = []\n",
    "data.append(Q2)\n",
    "for abstract in abstracts:\n",
    "    words = get_Words(abstract)\n",
    "    data.append(words)\n",
    "    unique_words.update(words)\n",
    "print(len(unique_words))\n",
    "unique_words = list(unique_words)"
   ]
  },
  {
   "cell_type": "code",
   "execution_count": 7,
   "metadata": {},
   "outputs": [
    {
     "name": "stdout",
     "output_type": "stream",
     "text": [
      "(1034, 8573)\n"
     ]
    }
   ],
   "source": [
    "# tf-idf with sklearn\n",
    "from sklearn.feature_extraction.text import TfidfVectorizer\n",
    "\n",
    "# encode document\n",
    "data_asStr = [' '.join(words) for words in data]\n",
    "# create the transform\n",
    "vectorizer = TfidfVectorizer()\n",
    "# tokenize and build vocab\n",
    "X = vectorizer.fit_transform(data_asStr)\n",
    "unique_words = vectorizer.get_feature_names_out()\n",
    "# summarize encoded vector\n",
    "print(X.shape)\n"
   ]
  },
  {
   "cell_type": "code",
   "execution_count": 8,
   "metadata": {},
   "outputs": [
    {
     "name": "stdout",
     "output_type": "stream",
     "text": [
      "[4.88995983 3.37401632 3.18145602 ... 0.35583243 0.29032049 0.11891892]\n"
     ]
    }
   ],
   "source": [
    "# singluar values of X\n",
    "U, s, V = np.linalg.svd(X.toarray())\n",
    "print(s)"
   ]
  },
  {
   "cell_type": "code",
   "execution_count": 9,
   "metadata": {},
   "outputs": [],
   "source": [
    "def get_k_approx(k):\n",
    "    X_k = np.array(X)*0.0\n",
    "    for j in range(k):\n",
    "        u = (U[:,j] * s[j]).reshape(-1, 1)\n",
    "        v = V[j,:].reshape(1, -1)\n",
    "        X_k += u @ v\n",
    "    return X_k\n"
   ]
  },
  {
   "cell_type": "code",
   "execution_count": 10,
   "metadata": {},
   "outputs": [],
   "source": [
    "A_100 = get_k_approx(100)\n",
    "A_500 = get_k_approx(500)"
   ]
  },
  {
   "cell_type": "code",
   "execution_count": 11,
   "metadata": {},
   "outputs": [],
   "source": [
    "from sklearn.metrics.pairwise import cosine_similarity\n",
    "relevant_documents = [80 ,90 ,162,187,236,237,258,289,290,292,293,294,296,300,301,303]\n",
    "\n",
    "def test_performance(A_test, tol):\n",
    "    Q2 = A_test[0,:]\n",
    "    try:\n",
    "        Q2_dense = Q2.toarray()\n",
    "    except:\n",
    "        Q2_dense = np.asarray(Q2)\n",
    "    True_positives = 0\n",
    "    False_positives = 0\n",
    "    False_negatives = 0\n",
    "    True_negatives = 0\n",
    "    for i in range(1, A_test.shape[0]):\n",
    "        try:\n",
    "            A_test_i_dense = A_test[i,:].toarray()\n",
    "        except:\n",
    "            A_test_i_dense = np.asarray(A_test[i,:])\n",
    "        sim = cosine_similarity(Q2_dense, A_test_i_dense)[0][0]\n",
    "        if i in relevant_documents:\n",
    "            if sim > tol:\n",
    "                True_positives += 1\n",
    "            else:\n",
    "                False_negatives += 1\n",
    "        else:\n",
    "            if sim > tol:\n",
    "                False_positives += 1\n",
    "            else:\n",
    "                True_negatives += 1\n",
    "    return True_positives, False_positives, False_negatives, True_negatives"
   ]
  },
  {
   "cell_type": "code",
   "execution_count": 12,
   "metadata": {},
   "outputs": [
    {
     "name": "stdout",
     "output_type": "stream",
     "text": [
      "full\n",
      "for tollerance: 0.1\n",
      "8 16 8 1001\n",
      "precision: 0.3333333333333333\n",
      "recall: 0.5\n",
      "\n",
      "for tollerance: 0.25\n",
      "3 1 13 1016\n",
      "precision: 0.75\n",
      "recall: 0.1875\n",
      "\n",
      "for tollerance: 0.55\n",
      "0 0 16 1017\n",
      "precision: 0\n",
      "recall: 0.0\n",
      "\n",
      "\n",
      "\n",
      "\n",
      "\n",
      "A_100\n",
      "for tollerance: 0.1\n",
      "15 137 1 880\n",
      "precision: 0.09868421052631579\n",
      "recall: 0.9375\n",
      "\n",
      "for tollerance: 0.25\n",
      "12 27 4 990\n",
      "precision: 0.3076923076923077\n",
      "recall: 0.75\n",
      "\n",
      "for tollerance: 0.55\n",
      "3 3 13 1014\n",
      "precision: 0.5\n",
      "recall: 0.1875\n",
      "\n",
      "\n",
      "\n",
      "\n",
      "\n",
      "A_500\n",
      "for tollerance: 0.1\n",
      "11 43 5 974\n",
      "precision: 0.2037037037037037\n",
      "recall: 0.6875\n",
      "\n",
      "for tollerance: 0.25\n",
      "5 5 11 1012\n",
      "precision: 0.5\n",
      "recall: 0.3125\n",
      "\n",
      "for tollerance: 0.55\n",
      "1 0 15 1017\n",
      "precision: 1.0\n",
      "recall: 0.0625\n",
      "\n",
      "\n",
      "\n",
      "\n",
      "\n"
     ]
    }
   ],
   "source": [
    "matricies = [X, A_100, A_500]\n",
    "matrix_names = ['full', 'A_100', 'A_500']\n",
    "tols = [0.1, 0.25, 0.55]\n",
    "\n",
    "for matrix, matrix_name in zip(matricies, matrix_names):\n",
    "    print(matrix_name)\n",
    "    for tol in tols:\n",
    "        print(\"for tollerance:\",tol)\n",
    "        True_positives, False_positives, False_negatives, True_negatives = test_performance(matrix, tol)\n",
    "        print(True_positives, False_positives, False_negatives, True_negatives)\n",
    "        precision = 0\n",
    "        if True_positives + False_positives > 0:\n",
    "            precision = True_positives / (True_positives + False_positives)\n",
    "        recall = True_positives / (True_positives + False_negatives)\n",
    "        print('precision:', precision)\n",
    "        print('recall:', recall)\n",
    "        print()\n",
    "    print()\n",
    "    print()\n",
    "    print()\n",
    "    print()"
   ]
  },
  {
   "cell_type": "code",
   "execution_count": 22,
   "metadata": {},
   "outputs": [
    {
     "name": "stdout",
     "output_type": "stream",
     "text": [
      "  (0, 1600)\t0.24862625419346504\n",
      "  (0, 4600)\t0.4618998241996097\n",
      "  (0, 2749)\t0.466329236892405\n",
      "  (0, 5841)\t0.175171065027332\n",
      "  (0, 4295)\t0.37734970437268756\n",
      "  (0, 3112)\t0.2784605812407015\n",
      "  (0, 2931)\t0.06333259780664943\n",
      "  (0, 2711)\t0.07007515434072176\n",
      "  (0, 75)\t0.05115687206200372\n",
      "  (0, 1375)\t0.17899098371833566\n",
      "  (0, 1956)\t0.05158773654742772\n",
      "  (0, 2756)\t0.28546691402236163\n",
      "  (0, 1403)\t0.07849580037280529\n",
      "  (0, 1880)\t0.24918325446043196\n",
      "  (0, 7012)\t0.0490378356382711\n",
      "  (0, 5275)\t0.05087599392674935\n",
      "  (0, 7061)\t0.06598361254690573\n",
      "  (0, 7079)\t0.09303660158372126\n",
      "  (0, 6521)\t0.07495469064825185\n",
      "  (0, 4336)\t0.06749610888644275\n",
      "  (0, 7340)\t0.08533198077937452\n",
      "  (0, 1913)\t0.13923029062035075\n",
      "  (0, 7078)\t0.07698330403326828\n",
      "correl 0.24862625419346504\n",
      "matern 0.4618998241996097\n",
      "fetal 0.466329236892405\n",
      "plasma 0.175171065027332\n",
      "level 0.37734970437268756\n",
      "glucos 0.2784605812407015\n",
      "free 0.06333259780664943\n",
      "fatti 0.07007515434072176\n",
      "acid 0.05115687206200372\n",
      "coeffici 0.17899098371833566\n",
      "determin 0.05158773654742772\n",
      "ffa 0.28546691402236163\n",
      "collect 0.07849580037280529\n",
      "deliveri 0.24918325446043196\n",
      "signific 0.0490378356382711\n",
      "obtain 0.05087599392674935\n",
      "size 0.06598361254690573\n",
      "slope 0.09303660158372126\n",
      "regress 0.07495469064825185\n",
      "line 0.06749610888644275\n",
      "strongli 0.08533198077937452\n",
      "depend 0.13923029062035075\n",
      "slightli 0.07698330403326828\n"
     ]
    }
   ],
   "source": [
    "vec = X[1,:]\n",
    "print(vec)\n",
    "# get index for every row in sparse vector\n",
    "for i in vec.indices:\n",
    "    print(unique_words[i], vec[0,i])"
   ]
  }
 ],
 "metadata": {
  "kernelspec": {
   "display_name": ".venv",
   "language": "python",
   "name": "python3"
  },
  "language_info": {
   "codemirror_mode": {
    "name": "ipython",
    "version": 3
   },
   "file_extension": ".py",
   "mimetype": "text/x-python",
   "name": "python",
   "nbconvert_exporter": "python",
   "pygments_lexer": "ipython3",
   "version": "3.10.12"
  }
 },
 "nbformat": 4,
 "nbformat_minor": 2
}
