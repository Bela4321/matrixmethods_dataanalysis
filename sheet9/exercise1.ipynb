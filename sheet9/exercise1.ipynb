{
 "cells": [
  {
   "cell_type": "code",
   "execution_count": 55,
   "metadata": {},
   "outputs": [],
   "source": [
    "import numpy as np"
   ]
  },
  {
   "cell_type": "code",
   "execution_count": 56,
   "metadata": {},
   "outputs": [],
   "source": [
    "# load in data\n",
    "abstracts = []\n",
    "with open('medline/MED.ALL', 'r') as f:\n",
    "    # split by abstracts\n",
    "    abstracts_1 = f.read().split('\\n.I ')\n",
    "    # remove W.\n",
    "    abstracts = [abstr.split('\\n.W\\n')[1] for abstr in abstracts_1]\n",
    "    \n",
    "#normalize\n",
    "abstracts = [abstr.lower() for abstr in abstracts]"
   ]
  },
  {
   "cell_type": "code",
   "execution_count": 57,
   "metadata": {},
   "outputs": [],
   "source": [
    "import nltk\n",
    "# get stopwords\n",
    "stopwords = []\n",
    "with open('smart.txt', 'r') as f:\n",
    "    stopwords = f.read().split('\\n')\n",
    "    # remove empty strings\n",
    "    stopwords = [word for word in stopwords if word]\n",
    "    # remove apostrophes in words\n",
    "    stopwords = [word.replace('\\'', '') for word in stopwords]\n",
    "    # stem words\n",
    "    stemmer = nltk.stem.PorterStemmer()\n",
    "    stopwords = [stemmer.stem(word) for word in stopwords]"
   ]
  },
  {
   "cell_type": "code",
   "execution_count": 58,
   "metadata": {},
   "outputs": [],
   "source": [
    "import re\n",
    "\n",
    "def get_Words(abstract):\n",
    "    words = re.split(r'\\s+|[-().,;!?\\\"]+', abstract.lower())\n",
    "    # remove empty strings\n",
    "    words = [word for word in words if word]\n",
    "    # remove apostrophes in words\n",
    "    words = [word.replace('\\'', '') for word in words]\n",
    "    # remove words with non-alphabetic characters\n",
    "    words = [word for word in words if word.isalpha()]\n",
    "    # stem words\n",
    "    stemmer = nltk.stem.PorterStemmer()\n",
    "    words = [stemmer.stem(word) for word in words]\n",
    "    # remove stopwords\n",
    "    words = [word for word in words if word not in stopwords]\n",
    "    return words"
   ]
  },
  {
   "cell_type": "code",
   "execution_count": 59,
   "metadata": {},
   "outputs": [
    {
     "name": "stdout",
     "output_type": "stream",
     "text": [
      "['relationship', 'blood', 'cerebrospin', 'fluid', 'oxygen', 'concentr', 'partial', 'pressur', 'method', 'interest', 'polarographi']\n"
     ]
    }
   ],
   "source": [
    "Q2 =\" the relationship of blood and cerebrospinal fluid oxygen concentrations or partial pressures.  a method of interest is polarography.\"\n",
    "Q2 = get_Words(Q2)\n",
    "print(Q2)"
   ]
  },
  {
   "cell_type": "code",
   "execution_count": 60,
   "metadata": {},
   "outputs": [
    {
     "name": "stdout",
     "output_type": "stream",
     "text": [
      "8573\n"
     ]
    }
   ],
   "source": [
    "unique_words = set()\n",
    "data = []\n",
    "data.append(Q2)\n",
    "for abstract in abstracts:\n",
    "    words = get_Words(abstract)\n",
    "    data.append(words)\n",
    "    unique_words.update(words)\n",
    "print(len(unique_words))\n",
    "unique_words = list(unique_words)"
   ]
  },
  {
   "cell_type": "code",
   "execution_count": 61,
   "metadata": {},
   "outputs": [
    {
     "name": "stdout",
     "output_type": "stream",
     "text": [
      "(1034, 8573)\n"
     ]
    }
   ],
   "source": [
    "# tf-idf with sklearn\n",
    "from sklearn.feature_extraction.text import TfidfVectorizer\n",
    "\n",
    "# create the transform\n",
    "vectorizer = TfidfVectorizer()\n",
    "# tokenize and build vocab\n",
    "vectorizer.fit(unique_words)\n",
    "# encode document\n",
    "data = [' '.join(words) for words in data]\n",
    "X = vectorizer.transform(data)\n",
    "# summarize encoded vector\n",
    "print(X.shape)\n"
   ]
  },
  {
   "cell_type": "code",
   "execution_count": 62,
   "metadata": {},
   "outputs": [
    {
     "name": "stdout",
     "output_type": "stream",
     "text": [
      "[6.76794298 4.85194531 4.05012318 ... 0.26418846 0.21783482 0.08695475]\n"
     ]
    }
   ],
   "source": [
    "# singluar values of X\n",
    "U, s, V = np.linalg.svd(X.toarray())\n",
    "print(s)"
   ]
  },
  {
   "cell_type": "code",
   "execution_count": 63,
   "metadata": {},
   "outputs": [],
   "source": [
    "def get_k_approx(k):\n",
    "    X_k = np.array(X)*0.0\n",
    "    for j in range(k):\n",
    "        u = (U[:,j] * s[j]).reshape(-1, 1)\n",
    "        v = V[j,:].reshape(1, -1)\n",
    "        X_k += u @ v\n",
    "    return X_k\n"
   ]
  },
  {
   "cell_type": "code",
   "execution_count": 64,
   "metadata": {},
   "outputs": [],
   "source": [
    "A_100 = get_k_approx(100)\n",
    "A_500 = get_k_approx(500)"
   ]
  },
  {
   "cell_type": "code",
   "execution_count": 65,
   "metadata": {},
   "outputs": [],
   "source": [
    "from sklearn.metrics.pairwise import cosine_similarity\n",
    "relevant_documents = [80 ,90 ,162,187,236,237,258,289,290,292,293,294,296,300,301,303]\n",
    "\n",
    "def test_performance(A_test, tol):\n",
    "    Q2 = A_test[0,:]\n",
    "    try:\n",
    "        Q2_dense = Q2.toarray()\n",
    "    except:\n",
    "        Q2_dense = np.asarray(Q2)\n",
    "    True_positives = 0\n",
    "    False_positives = 0\n",
    "    False_negatives = 0\n",
    "    True_negatives = 0\n",
    "    for i in range(1, A_test.shape[0]):\n",
    "        try:\n",
    "            A_test_i_dense = A_test[i,:].toarray()\n",
    "        except:\n",
    "            A_test_i_dense = np.asarray(A_test[i,:])\n",
    "        sim = cosine_similarity(Q2_dense, A_test_i_dense)[0][0]\n",
    "        if i in relevant_documents:\n",
    "            if sim > tol:\n",
    "                True_positives += 1\n",
    "            else:\n",
    "                False_negatives += 1\n",
    "        else:\n",
    "            if sim > tol:\n",
    "                False_positives += 1\n",
    "            else:\n",
    "                True_negatives += 1\n",
    "    return True_positives, False_positives, False_negatives, True_negatives"
   ]
  },
  {
   "cell_type": "code",
   "execution_count": 66,
   "metadata": {},
   "outputs": [
    {
     "name": "stdout",
     "output_type": "stream",
     "text": [
      "full\n",
      "for tollerance: 0.1\n",
      "12 51 4 966\n",
      "precision: 0.19047619047619047\n",
      "recall: 0.75\n",
      "\n",
      "for tollerance: 0.25\n",
      "4 4 12 1013\n",
      "precision: 0.5\n",
      "recall: 0.25\n",
      "\n",
      "for tollerance: 0.55\n",
      "0 0 16 1017\n",
      "precision: 0\n",
      "recall: 0.0\n",
      "\n",
      "\n",
      "\n",
      "\n",
      "\n",
      "A_100\n",
      "for tollerance: 0.1\n",
      "15 166 1 851\n",
      "precision: 0.08287292817679558\n",
      "recall: 0.9375\n",
      "\n",
      "for tollerance: 0.25\n",
      "12 35 4 982\n",
      "precision: 0.2553191489361702\n",
      "recall: 0.75\n",
      "\n",
      "for tollerance: 0.55\n",
      "3 3 13 1014\n",
      "precision: 0.5\n",
      "recall: 0.1875\n",
      "\n",
      "\n",
      "\n",
      "\n",
      "\n",
      "A_500\n",
      "for tollerance: 0.1\n",
      "13 77 3 940\n",
      "precision: 0.14444444444444443\n",
      "recall: 0.8125\n",
      "\n",
      "for tollerance: 0.25\n",
      "6 8 10 1009\n",
      "precision: 0.42857142857142855\n",
      "recall: 0.375\n",
      "\n",
      "for tollerance: 0.55\n",
      "0 0 16 1017\n",
      "precision: 0\n",
      "recall: 0.0\n",
      "\n",
      "\n",
      "\n",
      "\n",
      "\n"
     ]
    }
   ],
   "source": [
    "matricies = [X, A_100, A_500]\n",
    "matrix_names = ['full', 'A_100', 'A_500']\n",
    "tols = [0.1, 0.25, 0.55]\n",
    "\n",
    "for matrix, matrix_name in zip(matricies, matrix_names):\n",
    "    print(matrix_name)\n",
    "    for tol in tols:\n",
    "        print(\"for tollerance:\",tol)\n",
    "        True_positives, False_positives, False_negatives, True_negatives = test_performance(matrix, tol)\n",
    "        print(True_positives, False_positives, False_negatives, True_negatives)\n",
    "        precision = 0\n",
    "        if True_positives + False_positives > 0:\n",
    "            precision = True_positives / (True_positives + False_positives)\n",
    "        recall = True_positives / (True_positives + False_negatives)\n",
    "        print('precision:', precision)\n",
    "        print('recall:', recall)\n",
    "        print()\n",
    "    print()\n",
    "    print()\n",
    "    print()\n",
    "    print()"
   ]
  }
 ],
 "metadata": {
  "kernelspec": {
   "display_name": ".venv",
   "language": "python",
   "name": "python3"
  },
  "language_info": {
   "codemirror_mode": {
    "name": "ipython",
    "version": 3
   },
   "file_extension": ".py",
   "mimetype": "text/x-python",
   "name": "python",
   "nbconvert_exporter": "python",
   "pygments_lexer": "ipython3",
   "version": "3.10.12"
  }
 },
 "nbformat": 4,
 "nbformat_minor": 2
}
