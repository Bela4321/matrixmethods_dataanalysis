{
 "cells": [
  {
   "cell_type": "code",
   "execution_count": 1,
   "metadata": {},
   "outputs": [],
   "source": [
    "import numpy as np"
   ]
  },
  {
   "cell_type": "code",
   "execution_count": 2,
   "metadata": {},
   "outputs": [],
   "source": [
    "# load in data\n",
    "abstracts = []\n",
    "with open('medline/MED.ALL', 'r') as f:\n",
    "    # split by abstracts\n",
    "    abstracts_1 = f.read().split('\\n.I ')\n",
    "    # remove W.\n",
    "    abstracts = [abstr.split('\\n.W\\n')[1] for abstr in abstracts_1]\n",
    "    \n",
    "#normalize\n",
    "abstracts = [abstr.lower() for abstr in abstracts]"
   ]
  },
  {
   "cell_type": "code",
   "execution_count": 3,
   "metadata": {},
   "outputs": [],
   "source": [
    "import nltk\n",
    "# get stopwords\n",
    "stopwords = []\n",
    "with open('smart.txt', 'r') as f:\n",
    "    stopwords = f.read().split('\\n')\n",
    "    # remove empty strings\n",
    "    stopwords = [word for word in stopwords if word]\n",
    "    # remove apostrophes in words\n",
    "    stopwords = [word.replace('\\'', '') for word in stopwords]\n",
    "    # stem words\n",
    "    stemmer = nltk.stem.PorterStemmer()\n",
    "    stopwords = [stemmer.stem(word) for word in stopwords]"
   ]
  },
  {
   "cell_type": "code",
   "execution_count": 4,
   "metadata": {},
   "outputs": [],
   "source": [
    "import re\n",
    "\n",
    "def get_Words(abstract):\n",
    "    words = re.split(r'\\s+|[-().,;!?\\\"]+', abstract.lower())\n",
    "    # remove empty strings\n",
    "    words = [word for word in words if word]\n",
    "    # remove apostrophes in words\n",
    "    words = [word.replace('\\'', '') for word in words]\n",
    "    # remove words with non-alphabetic characters\n",
    "    words = [word for word in words if word.isalpha()]\n",
    "    # stem words\n",
    "    stemmer = nltk.stem.PorterStemmer()\n",
    "    words = [stemmer.stem(word) for word in words]\n",
    "    # remove stopwords\n",
    "    words = [word for word in words if word not in stopwords]\n",
    "    return words"
   ]
  },
  {
   "cell_type": "code",
   "execution_count": 5,
   "metadata": {},
   "outputs": [
    {
     "name": "stdout",
     "output_type": "stream",
     "text": [
      "['relationship', 'blood', 'cerebrospin', 'fluid', 'oxygen', 'concentr', 'partial', 'pressur', 'method', 'interest', 'polarographi']\n"
     ]
    }
   ],
   "source": [
    "Q2 =\" the relationship of blood and cerebrospinal fluid oxygen concentrations or partial pressures.  a method of interest is polarography.\"\n",
    "Q2 = get_Words(Q2)\n",
    "print(Q2)"
   ]
  },
  {
   "cell_type": "code",
   "execution_count": 6,
   "metadata": {},
   "outputs": [
    {
     "name": "stdout",
     "output_type": "stream",
     "text": [
      "8573\n"
     ]
    }
   ],
   "source": [
    "unique_words = set()\n",
    "data = []\n",
    "data.append(Q2)\n",
    "for abstract in abstracts:\n",
    "    words = get_Words(abstract)\n",
    "    data.append(words)\n",
    "    unique_words.update(words)\n",
    "print(len(unique_words))\n",
    "unique_words = list(unique_words)"
   ]
  },
  {
   "cell_type": "code",
   "execution_count": 9,
   "metadata": {},
   "outputs": [],
   "source": [
    "# tf-idf \n",
    "n = len(data)\n",
    "X = np.zeros((len(unique_words), n))\n",
    "for i, word in enumerate(unique_words):\n",
    "        n_i = sum([1 for document in data if word in document])\n",
    "        for j, document in enumerate(data):\n",
    "            f_ij = document.count(word)\n",
    "            idf_i = np.log(n / n_i)\n",
    "            X[i, j] = f_ij * idf_i\n",
    "        \n"
   ]
  },
  {
   "cell_type": "code",
   "execution_count": 11,
   "metadata": {},
   "outputs": [
    {
     "name": "stdout",
     "output_type": "stream",
     "text": [
      "[253.20675565 203.52287682 191.44739953 ...  10.61636766   8.8038338\n",
      "   8.1738361 ]\n"
     ]
    }
   ],
   "source": [
    "# singluar values of X\n",
    "U, s, V = np.linalg.svd(X)\n",
    "print(s)"
   ]
  },
  {
   "cell_type": "code",
   "execution_count": 12,
   "metadata": {},
   "outputs": [],
   "source": [
    "def get_k_approx(k):\n",
    "    X_k = np.array(X)*0.0\n",
    "    for j in range(k):\n",
    "        u = (U[:,j] * s[j]).reshape(-1, 1)\n",
    "        v = V[j,:].reshape(1, -1)\n",
    "        X_k += u @ v\n",
    "    return X_k\n"
   ]
  },
  {
   "cell_type": "code",
   "execution_count": 13,
   "metadata": {},
   "outputs": [],
   "source": [
    "A_100 = get_k_approx(100)\n",
    "A_500 = get_k_approx(500)"
   ]
  },
  {
   "cell_type": "code",
   "execution_count": 31,
   "metadata": {},
   "outputs": [],
   "source": [
    "from sklearn.metrics.pairwise import cosine_similarity\n",
    "relevant_documents = [80 ,90 ,162,187,236,237,258,289,290,292,293,294,296,300,301,303]\n",
    "\n",
    "def test_performance(A_test, tol):\n",
    "    Q2 = A_test[:,0]\n",
    "    try:\n",
    "        Q2_dense = Q2.toarray()\n",
    "    except:\n",
    "        Q2_dense = np.asarray(Q2)\n",
    "    True_positives = 0\n",
    "    False_positives = 0\n",
    "    False_negatives = 0\n",
    "    True_negatives = 0\n",
    "    for i in range(1, A_test.shape[1]):\n",
    "        try:\n",
    "            A_test_i_dense = np.asarray(A_test[:,i])\n",
    "        except:\n",
    "            A_test_i_dense = A_test[:,i]\n",
    "        # reshape\n",
    "        A_test_i_dense = A_test_i_dense.reshape(1, -1)\n",
    "        Q2_dense = Q2_dense.reshape(1, -1)\n",
    "        sim = cosine_similarity(Q2_dense, A_test_i_dense)[0][0]\n",
    "        if i in relevant_documents:\n",
    "            if sim > tol:\n",
    "                True_positives += 1\n",
    "            else:\n",
    "                False_negatives += 1\n",
    "        else:\n",
    "            if sim > tol:\n",
    "                False_positives += 1\n",
    "            else:\n",
    "                True_negatives += 1\n",
    "    return True_positives, False_positives, False_negatives, True_negatives"
   ]
  },
  {
   "cell_type": "code",
   "execution_count": 32,
   "metadata": {},
   "outputs": [
    {
     "name": "stdout",
     "output_type": "stream",
     "text": [
      "full\n",
      "for tollerance: 0.1\n",
      "8 13 8 1004\n",
      "precision: 0.38095238095238093\n",
      "recall: 0.5\n",
      "\n",
      "for tollerance: 0.25\n",
      "1 1 15 1016\n",
      "precision: 0.5\n",
      "recall: 0.0625\n",
      "\n",
      "for tollerance: 0.55\n",
      "0 0 16 1017\n",
      "precision: 0\n",
      "recall: 0.0\n",
      "\n",
      "\n",
      "\n",
      "\n",
      "\n",
      "A_100\n",
      "for tollerance: 0.1\n",
      "16 169 0 848\n",
      "precision: 0.08648648648648649\n",
      "recall: 1.0\n",
      "\n",
      "for tollerance: 0.25\n",
      "13 40 3 977\n",
      "precision: 0.24528301886792453\n",
      "recall: 0.8125\n",
      "\n",
      "for tollerance: 0.55\n",
      "8 4 8 1013\n",
      "precision: 0.6666666666666666\n",
      "recall: 0.5\n",
      "\n",
      "\n",
      "\n",
      "\n",
      "\n",
      "A_500\n",
      "for tollerance: 0.1\n",
      "13 57 3 960\n",
      "precision: 0.18571428571428572\n",
      "recall: 0.8125\n",
      "\n",
      "for tollerance: 0.25\n",
      "5 8 11 1009\n",
      "precision: 0.38461538461538464\n",
      "recall: 0.3125\n",
      "\n",
      "for tollerance: 0.55\n",
      "1 0 15 1017\n",
      "precision: 1.0\n",
      "recall: 0.0625\n",
      "\n",
      "\n",
      "\n",
      "\n",
      "\n"
     ]
    }
   ],
   "source": [
    "matricies = [X, A_100, A_500]\n",
    "matrix_names = ['full', 'A_100', 'A_500']\n",
    "tols = [0.1, 0.25, 0.55]\n",
    "\n",
    "for matrix, matrix_name in zip(matricies, matrix_names):\n",
    "    print(matrix_name)\n",
    "    for tol in tols:\n",
    "        print(\"for tollerance:\",tol)\n",
    "        True_positives, False_positives, False_negatives, True_negatives = test_performance(matrix, tol)\n",
    "        print(True_positives, False_positives, False_negatives, True_negatives)\n",
    "        precision = 0\n",
    "        if True_positives + False_positives > 0:\n",
    "            precision = True_positives / (True_positives + False_positives)\n",
    "        recall = True_positives / (True_positives + False_negatives)\n",
    "        print('precision:', precision)\n",
    "        print('recall:', recall)\n",
    "        print()\n",
    "    print()\n",
    "    print()\n",
    "    print()\n",
    "    print()"
   ]
  },
  {
   "cell_type": "code",
   "execution_count": null,
   "metadata": {},
   "outputs": [
    {
     "name": "stdout",
     "output_type": "stream",
     "text": [
      "  (0, 1600)\t0.24862625419346504\n",
      "  (0, 4600)\t0.4618998241996097\n",
      "  (0, 2749)\t0.466329236892405\n",
      "  (0, 5841)\t0.175171065027332\n",
      "  (0, 4295)\t0.37734970437268756\n",
      "  (0, 3112)\t0.2784605812407015\n",
      "  (0, 2931)\t0.06333259780664943\n",
      "  (0, 2711)\t0.07007515434072176\n",
      "  (0, 75)\t0.05115687206200372\n",
      "  (0, 1375)\t0.17899098371833566\n",
      "  (0, 1956)\t0.05158773654742772\n",
      "  (0, 2756)\t0.28546691402236163\n",
      "  (0, 1403)\t0.07849580037280529\n",
      "  (0, 1880)\t0.24918325446043196\n",
      "  (0, 7012)\t0.0490378356382711\n",
      "  (0, 5275)\t0.05087599392674935\n",
      "  (0, 7061)\t0.06598361254690573\n",
      "  (0, 7079)\t0.09303660158372126\n",
      "  (0, 6521)\t0.07495469064825185\n",
      "  (0, 4336)\t0.06749610888644275\n",
      "  (0, 7340)\t0.08533198077937452\n",
      "  (0, 1913)\t0.13923029062035075\n",
      "  (0, 7078)\t0.07698330403326828\n",
      "correl 0.24862625419346504\n",
      "matern 0.4618998241996097\n",
      "fetal 0.466329236892405\n",
      "plasma 0.175171065027332\n",
      "level 0.37734970437268756\n",
      "glucos 0.2784605812407015\n",
      "free 0.06333259780664943\n",
      "fatti 0.07007515434072176\n",
      "acid 0.05115687206200372\n",
      "coeffici 0.17899098371833566\n",
      "determin 0.05158773654742772\n",
      "ffa 0.28546691402236163\n",
      "collect 0.07849580037280529\n",
      "deliveri 0.24918325446043196\n",
      "signific 0.0490378356382711\n",
      "obtain 0.05087599392674935\n",
      "size 0.06598361254690573\n",
      "slope 0.09303660158372126\n",
      "regress 0.07495469064825185\n",
      "line 0.06749610888644275\n",
      "strongli 0.08533198077937452\n",
      "depend 0.13923029062035075\n",
      "slightli 0.07698330403326828\n"
     ]
    }
   ],
   "source": [
    "vec = X[1,:]\n",
    "print(vec)\n",
    "# get index for every row in sparse vector\n",
    "for i in vec.indices:\n",
    "    print(unique_words[i], vec[0,i])"
   ]
  }
 ],
 "metadata": {
  "kernelspec": {
   "display_name": ".venv",
   "language": "python",
   "name": "python3"
  },
  "language_info": {
   "codemirror_mode": {
    "name": "ipython",
    "version": 3
   },
   "file_extension": ".py",
   "mimetype": "text/x-python",
   "name": "python",
   "nbconvert_exporter": "python",
   "pygments_lexer": "ipython3",
   "version": "3.10.12"
  }
 },
 "nbformat": 4,
 "nbformat_minor": 2
}
