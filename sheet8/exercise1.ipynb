{
 "cells": [
  {
   "cell_type": "code",
   "execution_count": 25,
   "metadata": {},
   "outputs": [],
   "source": [
    "import numpy as np\n",
    "import matplotlib.pyplot as plt\n",
    "\n",
    "def k_means_iteration(data,currentCentroids):\n",
    "    cluster1=[]\n",
    "    cluster2=[]\n",
    "    cluster3=[]\n",
    "    quality=0\n",
    "    for i in range(len(data)):\n",
    "        distance1=np.linalg.norm(data[i]-currentCentroids[0])\n",
    "        distance2=np.linalg.norm(data[i]-currentCentroids[1])\n",
    "        distance3=np.linalg.norm(data[i]-currentCentroids[2])\n",
    "        if distance1<=distance2 and distance1<=distance3:\n",
    "            cluster1.append(data[i])\n",
    "            quality+=distance1\n",
    "        elif distance2<=distance1 and distance2<=distance3:\n",
    "            cluster2.append(data[i])\n",
    "            quality+=distance2\n",
    "        else:\n",
    "            cluster3.append(data[i])\n",
    "            quality+=distance3\n",
    "    newCentroid1=np.mean(cluster1,axis=0)\n",
    "    newCentroid2=np.mean(cluster2,axis=0)\n",
    "    newCentroid3=np.mean(cluster3,axis=0)\n",
    "    print(\"quality: \",quality)\n",
    "    return [newCentroid1,newCentroid2,newCentroid3]\n",
    "\n",
    "\n",
    "def k_means_algotithm(data, initial_Centroid1, initial_Centroid2, initial_Centroid3):\n",
    "    oldCentroids=[initial_Centroid1,initial_Centroid2,initial_Centroid3]\n",
    "    newCentroids=k_means_iteration(data,oldCentroids)\n",
    "    while not np.array_equal(oldCentroids,newCentroids):\n",
    "        oldCentroids=newCentroids\n",
    "        newCentroids=k_means_iteration(data,oldCentroids)\n",
    "    return newCentroids"
   ]
  },
  {
   "cell_type": "code",
   "execution_count": 20,
   "metadata": {},
   "outputs": [],
   "source": [
    "def read_Data():\n",
    "    csvPath=\"data.csv\"\n",
    "    vectors = []\n",
    "    with open(csvPath,\"r\") as f:\n",
    "        data = f.readlines()\n",
    "        for i in range(len(data)):\n",
    "            line=data[i].replace(\"\\n\",\"\")\n",
    "            vector = np.array(line.split(\" \")).astype(np.int64)\n",
    "            vectors.append(vector)\n",
    "    return vectors"
   ]
  },
  {
   "cell_type": "code",
   "execution_count": 22,
   "metadata": {},
   "outputs": [
    {
     "name": "stdout",
     "output_type": "stream",
     "text": [
      "100\n"
     ]
    }
   ],
   "source": [
    "data = read_Data()\n",
    "# print shape of data\n",
    "print(len(data))"
   ]
  },
  {
   "cell_type": "code",
   "execution_count": 26,
   "metadata": {},
   "outputs": [],
   "source": [
    "centroid1=[320,320,320]\n",
    "centroid2=[340,340,340]\n",
    "centroid3=[360,360,360]"
   ]
  },
  {
   "cell_type": "code",
   "execution_count": 27,
   "metadata": {},
   "outputs": [
    {
     "name": "stdout",
     "output_type": "stream",
     "text": [
      "quality:  11005.041759268148\n",
      "quality:  3120.338067772739\n",
      "quality:  2226.481237761312\n",
      "quality:  1936.7413989203792\n",
      "quality:  1940.5311513617298\n",
      "[array([247.90909091, 387.45454545, 349.27272727]), array([309.01886792, 408.18867925, 289.94339623]), array([269.96, 480.64, 319.52])]\n"
     ]
    }
   ],
   "source": [
    "print(k_means_algotithm(data,centroid1,centroid2,centroid3))"
   ]
  }
 ],
 "metadata": {
  "kernelspec": {
   "display_name": ".venv",
   "language": "python",
   "name": "python3"
  },
  "language_info": {
   "codemirror_mode": {
    "name": "ipython",
    "version": 3
   },
   "file_extension": ".py",
   "mimetype": "text/x-python",
   "name": "python",
   "nbconvert_exporter": "python",
   "pygments_lexer": "ipython3",
   "version": "3.10.12"
  }
 },
 "nbformat": 4,
 "nbformat_minor": 2
}
