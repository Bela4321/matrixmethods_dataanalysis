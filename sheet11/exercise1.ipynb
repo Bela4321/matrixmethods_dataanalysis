{
 "cells": [
  {
   "cell_type": "code",
   "execution_count": 7,
   "metadata": {},
   "outputs": [
    {
     "data": {
      "text/plain": [
       "array([[[ 100., 1100., 2100.],\n",
       "        [ 200., 1200., 2200.],\n",
       "        [ 300., 1300., 2300.]],\n",
       "\n",
       "       [[   4.,   14.,   24.],\n",
       "        [   5.,   15.,   25.],\n",
       "        [   6.,   16.,   26.]],\n",
       "\n",
       "       [[   7.,   17.,   27.],\n",
       "        [   8.,   18.,   28.],\n",
       "        [   9.,   19.,   29.]]])"
      ]
     },
     "execution_count": 7,
     "metadata": {},
     "output_type": "execute_result"
    }
   ],
   "source": [
    "import numpy as np\n",
    "\n",
    "def unfold1(A):\n",
    "    return np.hstack([A[:,j,:] for j in range(len(A[0]))])\n",
    "\n",
    "def unfold2(A):\n",
    "    return (np.hstack([A[:,:,j].transpose() for j in range(len(A[0,0]))]))\n",
    "\n",
    "def unfold3(A):\n",
    "    return (np.hstack([A[j,:,:].transpose() for j in range(len(A))]))\n",
    "\n",
    "def tmul1(A,U):\n",
    "    [l,m,n] = A.shape\n",
    "    result = np.zeros([l,m,n])\n",
    "    for j in range(l):\n",
    "        for i2 in range(m):\n",
    "            for i3 in range(n):\n",
    "                for k in range(l):\n",
    "                    result[j,i2,i3] += U[j,k]*A[k,i2,i3]\n",
    "    return result\n",
    " \n",
    "def tmul2(A,U):\n",
    "    [l,m,n] = A.shape\n",
    "    result = np.zeros([l,m,n])\n",
    "    for i1 in range(l):\n",
    "        for j in range(m):\n",
    "            for i3 in range(n):\n",
    "                for k in range(m):\n",
    "                    result[i1,j,i3] += U[j,k]*A[i1,k,i3]\n",
    "    return result\n",
    "\n",
    "def tmul3(A,U):\n",
    "    [l,m,n] = A.shape\n",
    "    result = np.zeros([l,m,n])\n",
    "    for i1 in range(l):\n",
    "        for i2 in range(m):\n",
    "            for j in range(n):\n",
    "                for k in range(n):\n",
    "                    result[i1,i2,j] += U[j,k]*A[i1,i2,k]\n",
    "    return result\n",
    " \n",
    "A = np.zeros([3,3,3])\n",
    "A[:,:,0] = np.array([[1,2,3],[4,5,6],[7,8,9]])\n",
    "A[:,:,1] = A[:,:,0]+10\n",
    "A[:,:,2] = A[:,:,0]+20\n",
    "\n",
    "U = np.array([[100,0,0],[0,1,0],[0,0,1]])\n",
    "P = np.array([[0,1,0],[1,0,0],[0,0,1]])\n",
    " \n",
    "tmul1(A,U)\n",
    "\n",
    "\n"
   ]
  },
  {
   "cell_type": "code",
   "execution_count": 17,
   "metadata": {},
   "outputs": [
    {
     "name": "stdout",
     "output_type": "stream",
     "text": [
      "7.681145747868608\n"
     ]
    }
   ],
   "source": [
    "A=np.zeros([5,3,2])\n",
    "A[:,:,0] = np.array([[1,2,0],[0,1,1],[1,1,0],[0,0,4],[2,0,2]])\n",
    "A[:,:,1] = np.array([[0,0,1],[0,0,1],[4,0,0],[0,2,0],[0,0,2]])\n",
    "unfold1(A)\n",
    "#calc frobenius norm of A\n",
    "frobenius_norm = np.linalg.norm(A)\n",
    "print(frobenius_norm)"
   ]
  },
  {
   "cell_type": "code",
   "execution_count": 26,
   "metadata": {},
   "outputs": [
    {
     "name": "stdout",
     "output_type": "stream",
     "text": [
      "Core Tensor:\n",
      "[[[ 4.82389273 -1.02825112]\n",
      "  [-0.63443298  0.67017853]\n",
      "  [ 1.07024011  0.82713589]]\n",
      "\n",
      " [[ 0.93778856  1.83411894]\n",
      "  [ 3.1337146   1.19051392]\n",
      "  [ 0.06659143 -1.83627666]]\n",
      "\n",
      " [[ 0.61601439  0.52531936]\n",
      "  [ 0.02535461 -2.78814987]\n",
      "  [ 0.19848196 -0.91787394]]\n",
      "\n",
      " [[ 0.36500961  0.1553939 ]\n",
      "  [ 0.22340773 -0.18523331]\n",
      "  [-1.66663787  0.54234865]]\n",
      "\n",
      " [[ 0.07378512  0.33624092]\n",
      "  [-0.47755501  0.17477805]\n",
      "  [-0.14441377 -0.33337103]]]\n",
      "(5, 3, 2)\n",
      "7.681145747868604\n",
      "mode1\n",
      "5.196965803346327\n",
      "4.342496588518658\n",
      "3.051515095148708\n",
      "1.820281711217488\n",
      "0.7135123919311707\n",
      "mode3\n",
      "6.257523788042195\n",
      "4.45459269092989\n"
     ]
    },
    {
     "name": "stderr",
     "output_type": "stream",
     "text": [
      "/home/bela/git/matrixmethods_dataanalysis/.venv/lib/python3.10/site-packages/tensorly/decomposition/_tucker.py:156: Warning: No value given for 'rank'. The decomposition will preserve the original size.\n",
      "  warnings.warn(message, Warning)\n"
     ]
    }
   ],
   "source": [
    "import tensorly as tl\n",
    "from tensorly.decomposition import parafac\n",
    "\n",
    "# Perform Higher Order Singular Value Decomposition (HOSVD)\n",
    "HOSVD = tl.decomposition.tucker(A, rank=None)\n",
    "core = HOSVD.core\n",
    "# core: core tensor\n",
    "# factors: list of factor matrices\n",
    "\n",
    "# Print the core tensor\n",
    "print(\"Core Tensor:\")\n",
    "print(core)\n",
    "print(core.shape)\n",
    "\n",
    "#calc frobenius norm\n",
    "frobenius_norm_core = np.linalg.norm(core)\n",
    "print(frobenius_norm_core)\n",
    "\n",
    "print(\"mode1\")\n",
    "# mode 1 singular value\n",
    "for i in range(5):\n",
    "    S1= core[i,:,:]\n",
    "    s1 = np.linalg.norm(S1)\n",
    "    print(s1)\n",
    "# mode 3 singular value\n",
    "print(\"mode3\")\n",
    "for i in range(2):\n",
    "    S3= core[:,:,i]\n",
    "    s3 = np.linalg.norm(S3)\n",
    "    print(s3)\n",
    "\n"
   ]
  }
 ],
 "metadata": {
  "kernelspec": {
   "display_name": ".venv",
   "language": "python",
   "name": "python3"
  },
  "language_info": {
   "codemirror_mode": {
    "name": "ipython",
    "version": 3
   },
   "file_extension": ".py",
   "mimetype": "text/x-python",
   "name": "python",
   "nbconvert_exporter": "python",
   "pygments_lexer": "ipython3",
   "version": "3.10.12"
  }
 },
 "nbformat": 4,
 "nbformat_minor": 2
}
