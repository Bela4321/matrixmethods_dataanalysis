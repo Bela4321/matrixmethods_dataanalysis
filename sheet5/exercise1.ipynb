{
 "cells": [
  {
   "cell_type": "code",
   "execution_count": 2,
   "metadata": {},
   "outputs": [
    {
     "name": "stdout",
     "output_type": "stream",
     "text": [
      "[[0 1]\n",
      " [2 1]\n",
      " [1 2]]\n"
     ]
    }
   ],
   "source": [
    "import numpy as np\n",
    "\n",
    "A=np.matrix([[0,1],[2,1],[1,2]])\n",
    "print(A)"
   ]
  },
  {
   "cell_type": "code",
   "execution_count": 4,
   "metadata": {},
   "outputs": [
    {
     "name": "stdout",
     "output_type": "stream",
     "text": [
      "3.087252641775414\n"
     ]
    }
   ],
   "source": [
    "matrix_norm=np.linalg.norm(A,2)\n",
    "print(matrix_norm)"
   ]
  },
  {
   "cell_type": "code",
   "execution_count": 54,
   "metadata": {},
   "outputs": [
    {
     "name": "stdout",
     "output_type": "stream",
     "text": [
      "[[-0.66180256 -0.74967818]]\n",
      "3.0872526417754145\n",
      "[[-0.74967818]\n",
      " [-2.0732833 ]\n",
      " [-2.16115891]]\n",
      "[[-0.2428302 ]\n",
      " [-0.67156256]\n",
      " [-0.70002658]]\n"
     ]
    }
   ],
   "source": [
    "# get x and y where AX=sigma_1*y\n",
    "U, S, VT = np.linalg.svd(A)\n",
    "x = VT[0]\n",
    "print(x)\n",
    "ysig=np.dot(A,np.transpose(x))\n",
    "strech=np.linalg.norm(ysig)\n",
    "print(strech)\n",
    "print(ysig)\n",
    "y = ysig/np.linalg.norm(ysig)\n",
    "print(y)"
   ]
  },
  {
   "cell_type": "code",
   "execution_count": 76,
   "metadata": {},
   "outputs": [],
   "source": [
    "def gram_schmidt(vectors):\n",
    "    basis = []\n",
    "    for v in vectors:\n",
    "        w=v\n",
    "        for b in basis:\n",
    "            w-=np.dot(v,b)*b\n",
    "        if (np.abs(w) > 1e-10).any():  \n",
    "            basis.append(w/np.linalg.norm(w))\n",
    "    return np.array(basis)"
   ]
  },
  {
   "cell_type": "code",
   "execution_count": 77,
   "metadata": {},
   "outputs": [],
   "source": [
    "yList=[a[0,0] for a in y]\n",
    "e1=[1,0,0]\n",
    "e2=[0,1,0]"
   ]
  },
  {
   "cell_type": "code",
   "execution_count": 78,
   "metadata": {},
   "outputs": [
    {
     "name": "stdout",
     "output_type": "stream",
     "text": [
      "[[-0.2428302  -0.67156256 -0.70002658]\n",
      " [ 0.97006881 -0.16810732 -0.17523251]\n",
      " [ 0.          0.7216257  -0.69228343]]\n",
      "[[-0.2428302   0.97006881  0.        ]\n",
      " [-0.67156256 -0.16810732  0.7216257 ]\n",
      " [-0.70002658 -0.17523251 -0.69228343]]\n"
     ]
    }
   ],
   "source": [
    "vectorsy=np.array([yList,e1,e2])\n",
    "Z1T=gram_schmidt(vectorsy)\n",
    "Z1 = np.transpose(Z1T)\n",
    "print(Z1T)\n",
    "print(Z1)"
   ]
  },
  {
   "cell_type": "code",
   "execution_count": 79,
   "metadata": {},
   "outputs": [
    {
     "name": "stdout",
     "output_type": "stream",
     "text": [
      "[[-0.66180256 -0.74967818]\n",
      " [ 1.          0.        ]]\n"
     ]
    }
   ],
   "source": [
    "# same for x and W\n",
    "xList=[a[0,0] for a in np.transpose(x)]\n",
    "e1=[1,0]\n",
    "vectorsx=np.array([xList,e1])\n",
    "print(vectorsx)"
   ]
  },
  {
   "cell_type": "code",
   "execution_count": 80,
   "metadata": {},
   "outputs": [
    {
     "name": "stdout",
     "output_type": "stream",
     "text": [
      "[[-0.66180256 -0.74967818]\n",
      " [ 0.74967818 -0.66180256]]\n",
      "[[-0.66180256  0.74967818]\n",
      " [-0.74967818 -0.66180256]]\n"
     ]
    }
   ],
   "source": [
    "W1T=gram_schmidt(vectorsx)\n",
    "W1=np.transpose(W1T)\n",
    "print(W1T)\n",
    "print(W1)"
   ]
  },
  {
   "cell_type": "code",
   "execution_count": 84,
   "metadata": {},
   "outputs": [
    {
     "name": "stdout",
     "output_type": "stream",
     "text": [
      "[[ 3.0873  0.    ]\n",
      " [ 0.     -0.6822]\n",
      " [ 0.      1.0017]]\n"
     ]
    }
   ],
   "source": [
    "A1=np.round(Z1T@A@W1,4)\n",
    "print(A1)"
   ]
  },
  {
   "cell_type": "code",
   "execution_count": 88,
   "metadata": {},
   "outputs": [
    {
     "name": "stdout",
     "output_type": "stream",
     "text": [
      "[[-0.6822]\n",
      " [ 1.0017]]\n"
     ]
    }
   ],
   "source": [
    "B=np.transpose(np.matrix(A1[1:,1]))\n",
    "print(B)"
   ]
  },
  {
   "cell_type": "markdown",
   "metadata": {},
   "source": [
    "## new iteration with B"
   ]
  },
  {
   "cell_type": "code",
   "execution_count": 109,
   "metadata": {},
   "outputs": [
    {
     "name": "stdout",
     "output_type": "stream",
     "text": [
      "[[-0.6822  1.0017]]\n",
      "[[-0.56289893  0.82652574]]\n"
     ]
    }
   ],
   "source": [
    "xB=[1]\n",
    "yBsig=np.dot(B,xB)\n",
    "print(yBsig)\n",
    "strech2=np.linalg.norm(yBsig)\n",
    "yB=yBsig/np.linalg.norm(yBsig)\n",
    "print(yB)"
   ]
  },
  {
   "cell_type": "code",
   "execution_count": 93,
   "metadata": {},
   "outputs": [
    {
     "name": "stdout",
     "output_type": "stream",
     "text": [
      "[-0.5628989299192757, 0.8265257374672215]\n"
     ]
    }
   ],
   "source": [
    "yBList=[yB[0,0], yB[0,1]]\n",
    "print(yBList)\n",
    "e1=[1,0]"
   ]
  },
  {
   "cell_type": "code",
   "execution_count": 94,
   "metadata": {},
   "outputs": [
    {
     "name": "stdout",
     "output_type": "stream",
     "text": [
      "[[-0.56289893  0.82652574]\n",
      " [ 0.82652574  0.56289893]]\n",
      "[[-0.56289893  0.82652574]\n",
      " [ 0.82652574  0.56289893]]\n"
     ]
    }
   ],
   "source": [
    "vectorsyB=np.array([yBList,e1])\n",
    "Z2T=gram_schmidt(vectorsyB)\n",
    "Z2=np.transpose(Z2T)\n",
    "print(Z2T)\n",
    "print(Z2)"
   ]
  },
  {
   "cell_type": "code",
   "execution_count": 96,
   "metadata": {},
   "outputs": [],
   "source": [
    "W2T=[[1]]\n",
    "W2 = [[1]]"
   ]
  },
  {
   "cell_type": "code",
   "execution_count": 106,
   "metadata": {},
   "outputs": [
    {
     "name": "stdout",
     "output_type": "stream",
     "text": [
      "[[ 0.          0.        ]\n",
      " [-0.56289893  0.82652574]\n",
      " [ 0.82652574  0.56289893]]\n",
      "[[ 1.          0.          0.        ]\n",
      " [ 0.         -0.56289893  0.82652574]\n",
      " [ 0.          0.82652574  0.56289893]]\n"
     ]
    }
   ],
   "source": [
    "Z2ext=np.concatenate([[[0,0]],Z2],0)\n",
    "print(Z2ext)\n",
    "Z2ext=np.concatenate([[[1],[0],[0]],Z2ext],1)\n",
    "print(Z2ext)"
   ]
  },
  {
   "cell_type": "code",
   "execution_count": 111,
   "metadata": {},
   "outputs": [
    {
     "name": "stdout",
     "output_type": "stream",
     "text": [
      "[[0]\n",
      " [1]]\n",
      "[[1 0]\n",
      " [0 1]]\n"
     ]
    }
   ],
   "source": [
    "W2ext=np.concatenate([[[0]],W2],0)\n",
    "print(W2ext)\n",
    "W2ext=np.concatenate([[[1],[0]],W2ext],1)\n",
    "print(W2ext)\n",
    "W2extT=np.transpose(W2ext)"
   ]
  },
  {
   "cell_type": "code",
   "execution_count": 110,
   "metadata": {},
   "outputs": [
    {
     "name": "stdout",
     "output_type": "stream",
     "text": [
      "[[3.08725264 0.        ]\n",
      " [0.         1.21194048]\n",
      " [0.         0.        ]]\n"
     ]
    }
   ],
   "source": [
    "sigmaext=np.array([[strech,0],[0,strech2],[0,0]])\n",
    "print(sigmaext)"
   ]
  },
  {
   "cell_type": "code",
   "execution_count": 113,
   "metadata": {},
   "outputs": [
    {
     "data": {
      "text/plain": [
       "array([[0., 1.],\n",
       "       [2., 1.],\n",
       "       [1., 2.]])"
      ]
     },
     "execution_count": 113,
     "metadata": {},
     "output_type": "execute_result"
    }
   ],
   "source": [
    "np.round(Z1@Z2ext@sigmaext@W2extT@W1T,4)"
   ]
  },
  {
   "cell_type": "code",
   "execution_count": 114,
   "metadata": {},
   "outputs": [
    {
     "name": "stdout",
     "output_type": "stream",
     "text": [
      "[[-0.2428 -0.5461  0.8018]\n",
      " [-0.6716  0.6911  0.2673]\n",
      " [-0.7    -0.4736 -0.5345]]\n",
      "[[-0.6618  0.7497]\n",
      " [-0.7497 -0.6618]]\n"
     ]
    }
   ],
   "source": [
    "U=Z1@Z2ext\n",
    "print(np.round(U,4))\n",
    "VT=W2extT@W1T\n",
    "print(np.round(np.transpose(VT),4))"
   ]
  },
  {
   "cell_type": "code",
   "execution_count": 118,
   "metadata": {},
   "outputs": [],
   "source": [
    "np.linalg.matrix_rank(np.transpose(A)@A)\n",
    "AT=np.transpose(A)\n",
    "I2in3=np.array([[1,0,0],[0,1,0],[0,0,0]])"
   ]
  },
  {
   "cell_type": "code",
   "execution_count": 120,
   "metadata": {},
   "outputs": [
    {
     "name": "stdout",
     "output_type": "stream",
     "text": [
      "[[0 2 1]\n",
      " [1 1 2]]\n"
     ]
    },
    {
     "data": {
      "text/plain": [
       "matrix([[0, 2, 0],\n",
       "        [1, 1, 0]])"
      ]
     },
     "execution_count": 120,
     "metadata": {},
     "output_type": "execute_result"
    }
   ],
   "source": [
    "print(AT)\n",
    "AT@I2in3"
   ]
  }
 ],
 "metadata": {
  "kernelspec": {
   "display_name": ".venv",
   "language": "python",
   "name": "python3"
  },
  "language_info": {
   "codemirror_mode": {
    "name": "ipython",
    "version": 3
   },
   "file_extension": ".py",
   "mimetype": "text/x-python",
   "name": "python",
   "nbconvert_exporter": "python",
   "pygments_lexer": "ipython3",
   "version": "3.10.12"
  }
 },
 "nbformat": 4,
 "nbformat_minor": 2
}
